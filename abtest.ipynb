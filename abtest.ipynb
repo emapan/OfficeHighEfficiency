{
 "cells": [
  {
   "cell_type": "markdown",
   "metadata": {},
   "source": [
    "一、数据读取"
   ]
  },
  {
   "cell_type": "code",
   "execution_count": 1,
   "metadata": {},
   "outputs": [],
   "source": [
    "import pandas as pd\n",
    "import numpy as np\n",
    "import matplotlib.pyplot as plt"
   ]
  },
  {
   "cell_type": "code",
   "execution_count": 2,
   "metadata": {},
   "outputs": [
    {
     "output_type": "stream",
     "name": "stdout",
     "text": "user_id                   timestamp      group landing_page  converted\n0   851104  2017-01-21 22:11:48.556739    control     old_page          0\n1   804228  2017-01-12 08:01:45.159739    control     old_page          0\n2   661590  2017-01-11 16:55:06.154213  treatment     new_page          0\n3   853541  2017-01-08 18:28:03.143765  treatment     new_page          0\n4   864975  2017-01-21 01:52:26.210827    control     old_page          1\n"
    }
   ],
   "source": [
    "data = pd.read_csv('ab_data.csv')\n",
    "print(data.head())"
   ]
  },
  {
   "cell_type": "markdown",
   "metadata": {},
   "source": [
    "二、数据清洗"
   ]
  },
  {
   "cell_type": "code",
   "execution_count": 3,
   "metadata": {},
   "outputs": [
    {
     "output_type": "stream",
     "name": "stdout",
     "text": "数据行数： 294478\n独立用户数： 290584\n"
    }
   ],
   "source": [
    "print('数据行数：', data.shape[0])\n",
    "print('独立用户数：', data.user_id.nunique())"
   ]
  },
  {
   "cell_type": "code",
   "execution_count": 4,
   "metadata": {},
   "outputs": [
    {
     "output_type": "stream",
     "name": "stdout",
     "text": "user_id                   timestamp      group landing_page  converted\n230259   630052  2017-01-17 01:16:05.208766  treatment     new_page          0\n213114   630052  2017-01-07 12:25:54.089486  treatment     old_page          1\n22513    630126  2017-01-14 13:35:54.778695  treatment     old_page          0\n251762   630126  2017-01-19 17:16:00.280440  treatment     new_page          0\n183371   630137  2017-01-20 02:08:49.893878    control     old_page          0\n11792    630137  2017-01-22 14:59:22.051308    control     new_page          0\n207211   630320  2017-01-07 18:02:43.626318    control     old_page          0\n255753   630320  2017-01-12 05:27:37.181803  treatment     old_page          0\n96929    630471  2017-01-07 02:14:17.405726    control     new_page          0\n110634   630471  2017-01-23 01:42:51.501851    control     old_page          0\n"
    }
   ],
   "source": [
    "#发现有重复用户，查看详情\n",
    "print(data[data.user_id.duplicated(keep=False)].sort_values(by = 'user_id').head(10))"
   ]
  },
  {
   "cell_type": "code",
   "execution_count": 5,
   "metadata": {},
   "outputs": [
    {
     "output_type": "stream",
     "name": "stdout",
     "text": "不匹配数： 3893\n"
    }
   ],
   "source": [
    "#查看group和landing_page不匹配的数量：\n",
    "mismatch = ((data['group'] == 'treatment') != (data['landing_page'] == 'new_page'))\n",
    "print('不匹配数：', mismatch.sum())\n",
    "\n",
    "#将不匹配数剔除筛选\n",
    "match_df = data[~mismatch].copy()  # ~表示按位取反"
   ]
  },
  {
   "cell_type": "code",
   "execution_count": 6,
   "metadata": {},
   "outputs": [
    {
     "output_type": "stream",
     "name": "stdout",
     "text": "数据行数： 290585\n独立用户数： 290584\n"
    }
   ],
   "source": [
    "print('数据行数：', match_df.shape[0])\n",
    "print('独立用户数：', match_df.user_id.nunique())"
   ]
  },
  {
   "cell_type": "code",
   "execution_count": 7,
   "metadata": {},
   "outputs": [
    {
     "output_type": "stream",
     "name": "stdout",
     "text": "user_id                   timestamp      group landing_page  converted\n1899   773192  2017-01-09 05:37:58.781806  treatment     new_page          0\n2893   773192  2017-01-14 02:55:59.590927  treatment     new_page          0\n"
    }
   ],
   "source": [
    "#仍旧有重复的用户id，查看：\n",
    "print(match_df[match_df.user_id.duplicated(keep=False)])"
   ]
  },
  {
   "cell_type": "code",
   "execution_count": 8,
   "metadata": {},
   "outputs": [],
   "source": [
    "#该用户两个时间点都未转化，仅保留最近的1条信息：\n",
    "match_df = match_df.drop_duplicates(subset=['user_id'], keep='last')"
   ]
  },
  {
   "cell_type": "code",
   "execution_count": 9,
   "metadata": {},
   "outputs": [
    {
     "output_type": "stream",
     "name": "stdout",
     "text": "user_id         0\ntimestamp       0\ngroup           0\nlanding_page    0\nconverted       0\ndtype: int64\n"
    }
   ],
   "source": [
    "#检查缺失值：无缺失值\n",
    "print(match_df.isnull().sum())"
   ]
  },
  {
   "cell_type": "code",
   "execution_count": 10,
   "metadata": {},
   "outputs": [
    {
     "output_type": "stream",
     "name": "stdout",
     "text": "0.5000619442226688\n"
    }
   ],
   "source": [
    "#再看看收到新页面的用户占比多少： 得到的结果是0.50，收到新版和旧版页面的用户占比还是很接近的。\n",
    "print(match_df[match_df.landing_page==\"new_page\"].shape[0]/match_df.shape[0])"
   ]
  },
  {
   "cell_type": "markdown",
   "metadata": {},
   "source": [
    "三、假设检验\n",
    "\n",
    "接下来进入假设检验阶段。实际上是判断新旧页面的转化情况是否有显著差异，备择假设为新页面的转化情况优于旧页面。用转化率衡量转化情况。\n",
    "\n",
    "下面尝试三种方法：1.公式直接计算 2.python函数计算 3.蒙特卡洛法模拟"
   ]
  },
  {
   "cell_type": "code",
   "execution_count": 11,
   "metadata": {},
   "outputs": [
    {
     "output_type": "stream",
     "name": "stdout",
     "text": "旧版总用户数: 145274 旧版转化用户数: 17489 旧版转化率: 0.1203863045004612 旧版标准差: 0.32541384592046235\n新版总用户数: 145310 新版转化用户数: 17872 新版转化率: 0.12299222352212512 新版标准差: 0.3284294121886301\n"
    }
   ],
   "source": [
    "# 旧版、新版用户数\n",
    "n_old = match_df.query('group==\"control\"').shape[0]\n",
    "n_new = match_df.query('group==\"treatment\"').shape[0]\n",
    "# 旧版、新版转化用户数\n",
    "convert_old = match_df.query('group==\"control\" & converted==1').shape[0]\n",
    "convert_new = match_df.query('group==\"treatment\" & converted==1').shape[0]\n",
    "# 旧版、新版均值，即转化率\n",
    "p_old = match_df[match_df.group==\"control\"].converted.mean()\n",
    "p_new = match_df[match_df.group==\"treatment\"].converted.mean()\n",
    "## 旧版、新版标准差\n",
    "std_old = match_df[match_df.group==\"control\"].converted.std()\n",
    "std_new = match_df[match_df.group==\"treatment\"].converted.std()\n",
    "print('旧版总用户数:', n_old, '旧版转化用户数:', convert_old, '旧版转化率:', p_old,'旧版标准差:',std_old)\n",
    "print('新版总用户数:', n_new, '新版转化用户数:', convert_new, '新版转化率:', p_new,'新版标准差:',std_new)"
   ]
  },
  {
   "cell_type": "markdown",
   "metadata": {},
   "source": [
    "1.公式直接计算"
   ]
  },
  {
   "cell_type": "code",
   "execution_count": 12,
   "metadata": {},
   "outputs": [
    {
     "output_type": "stream",
     "name": "stdout",
     "text": "样本的总转化率 0.12168942543292129\n检验统计量z: -2.1484056695589\n临界值: -1.6448536269514729\nCohen's d为： -0.007970992391336005\n"
    }
   ],
   "source": [
    "#计算旧版和新版的平均转化率：\n",
    "p_all = match_df.converted.mean()\n",
    "print('样本的总转化率', p_all)\n",
    "\n",
    "#计算检验统计量z：\n",
    "z = (p_old - p_new)/ np.sqrt(p_all*(1 - p_all)*( 1/n_old + 1/n_new))\n",
    "print('检验统计量z:', z)\n",
    "\n",
    "from scipy.stats import norm\n",
    "z_alpha = norm.ppf(0.05) # 若为双侧，则norm.ppf(0.05/2)\n",
    "print('临界值:', z_alpha)\n",
    "\n",
    "#对比平均值时，衡量差异效应大小的常见标准之一是Cohen's d，中文一般译作科恩d值\n",
    "s = np.sqrt(((n_old - 1)* std_old**2 + (n_new - 1)* std_new**2 ) / (n_old + n_new - 2))\n",
    "d = (p_old - p_new) / s\n",
    "print('Cohen\\'s d为：', d)\n",
    "\n",
    "#z<z_alpha,拒绝零假设。\n",
    "#效应量 Cohen's d = -0.0080，很小。\n",
    "#这说明两者虽有显著性水平5%时统计意义上的显著差异，但差异的效应量很小。"
   ]
  },
  {
   "cell_type": "markdown",
   "metadata": {},
   "source": [
    "2.statsmodels包计算"
   ]
  },
  {
   "cell_type": "code",
   "execution_count": 13,
   "metadata": {},
   "outputs": [
    {
     "output_type": "stream",
     "name": "stdout",
     "text": "检验统计量z: -2.1484056695589 ，p值: 0.015840771394875417\n检验统计量z: -2.148415338961362 ，p值: 0.01584038766094882\n"
    }
   ],
   "source": [
    "#前面根据案例实际，我们用的是两个比率的Z检验函数proportion.proportions_ztest，输入的是两组各自的总数和转化数,得到的z值和前面计算的完全相同，拒绝零假设。\n",
    "#如果是一般性的Z检验，可以用weightstats.ztest函数，直接输入两组的具体数值,可以看到计算结果很接近，但有差异。因为非比率的Z检验是不计算联合估计的。\n",
    "\n",
    "import statsmodels.stats.proportion as sp\n",
    "z_score, p_value = sp.proportions_ztest([convert_old, convert_new], [n_old, n_new], alternative='smaller') # alternative='smaller'代表左尾\n",
    "print('检验统计量z:', z_score, '，p值:', p_value)\n",
    "\n",
    "import statsmodels.stats.weightstats as sw\n",
    "z_score1, p_value1 = sw.ztest(match_df.query('landing_page==\"old_page\"')['converted'], match_df.query('landing_page==\"new_page\"')['converted'],\n",
    "                        alternative='smaller')\n",
    "print('检验统计量z:', z_score1, '，p值:', p_value1)"
   ]
  },
  {
   "cell_type": "markdown",
   "metadata": {},
   "source": [
    "3. 蒙特卡洛法模拟\n",
    "蒙特卡洛法其实就是模拟法，用计算机模拟多次抽样，获得分布。这种方法很直观，能帮助我们理解分布、p值、 分位数等概念。"
   ]
  },
  {
   "cell_type": "code",
   "execution_count": 14,
   "metadata": {},
   "outputs": [
    {
     "output_type": "stream",
     "name": "stdout",
     "text": "p_all: 0.12168942543292129\nab_data.csv样本的转化率差值: -0.002605919021663919\n"
    },
    {
     "output_type": "display_data",
     "data": {
      "text/plain": "<Figure size 432x288 with 1 Axes>",
      "image/svg+xml": "<?xml version=\"1.0\" encoding=\"utf-8\" standalone=\"no\"?>\r\n<!DOCTYPE svg PUBLIC \"-//W3C//DTD SVG 1.1//EN\"\r\n  \"http://www.w3.org/Graphics/SVG/1.1/DTD/svg11.dtd\">\r\n<!-- Created with matplotlib (http://matplotlib.org/) -->\r\n<svg height=\"252.018125pt\" version=\"1.1\" viewBox=\"0 0 385.15 252.018125\" width=\"385.15pt\" xmlns=\"http://www.w3.org/2000/svg\" xmlns:xlink=\"http://www.w3.org/1999/xlink\">\r\n <defs>\r\n  <style type=\"text/css\">\r\n*{stroke-linecap:butt;stroke-linejoin:round;}\r\n  </style>\r\n </defs>\r\n <g id=\"figure_1\">\r\n  <g id=\"patch_1\">\r\n   <path d=\"M -0 252.018125 \r\nL 385.15 252.018125 \r\nL 385.15 0 \r\nL -0 0 \r\nz\r\n\" style=\"fill:none;\"/>\r\n  </g>\r\n  <g id=\"axes_1\">\r\n   <g id=\"patch_2\">\r\n    <path d=\"M 39.65 228.14 \r\nL 374.45 228.14 \r\nL 374.45 10.7 \r\nL 39.65 10.7 \r\nz\r\n\" style=\"fill:#ffffff;\"/>\r\n   </g>\r\n   <g id=\"patch_3\">\r\n    <path clip-path=\"url(#pb506f6574c)\" d=\"M 54.868182 228.14 \r\nL 85.304545 228.14 \r\nL 85.304545 227.318824 \r\nL 54.868182 227.318824 \r\nz\r\n\" style=\"fill:#1f77b4;\"/>\r\n   </g>\r\n   <g id=\"patch_4\">\r\n    <path clip-path=\"url(#pb506f6574c)\" d=\"M 85.304545 228.14 \r\nL 115.740909 228.14 \r\nL 115.740909 221.048023 \r\nL 85.304545 221.048023 \r\nz\r\n\" style=\"fill:#1f77b4;\"/>\r\n   </g>\r\n   <g id=\"patch_5\">\r\n    <path clip-path=\"url(#pb506f6574c)\" d=\"M 115.740909 228.14 \r\nL 146.177273 228.14 \r\nL 146.177273 194.173165 \r\nL 115.740909 194.173165 \r\nz\r\n\" style=\"fill:#1f77b4;\"/>\r\n   </g>\r\n   <g id=\"patch_6\">\r\n    <path clip-path=\"url(#pb506f6574c)\" d=\"M 146.177273 228.14 \r\nL 176.613636 228.14 \r\nL 176.613636 114.519071 \r\nL 146.177273 114.519071 \r\nz\r\n\" style=\"fill:#1f77b4;\"/>\r\n   </g>\r\n   <g id=\"patch_7\">\r\n    <path clip-path=\"url(#pb506f6574c)\" d=\"M 176.613636 228.14 \r\nL 207.05 228.14 \r\nL 207.05 30.012572 \r\nL 176.613636 30.012572 \r\nz\r\n\" style=\"fill:#1f77b4;\"/>\r\n   </g>\r\n   <g id=\"patch_8\">\r\n    <path clip-path=\"url(#pb506f6574c)\" d=\"M 207.05 228.14 \r\nL 237.486364 228.14 \r\nL 237.486364 21.054286 \r\nL 207.05 21.054286 \r\nz\r\n\" style=\"fill:#1f77b4;\"/>\r\n   </g>\r\n   <g id=\"patch_9\">\r\n    <path clip-path=\"url(#pb506f6574c)\" d=\"M 237.486364 228.14 \r\nL 267.922727 228.14 \r\nL 267.922727 100.783032 \r\nL 237.486364 100.783032 \r\nz\r\n\" style=\"fill:#1f77b4;\"/>\r\n   </g>\r\n   <g id=\"patch_10\">\r\n    <path clip-path=\"url(#pb506f6574c)\" d=\"M 267.922727 228.14 \r\nL 298.359091 228.14 \r\nL 298.359091 180.362474 \r\nL 267.922727 180.362474 \r\nz\r\n\" style=\"fill:#1f77b4;\"/>\r\n   </g>\r\n   <g id=\"patch_11\">\r\n    <path clip-path=\"url(#pb506f6574c)\" d=\"M 298.359091 228.14 \r\nL 328.795455 228.14 \r\nL 328.795455 218.584495 \r\nL 298.359091 218.584495 \r\nz\r\n\" style=\"fill:#1f77b4;\"/>\r\n   </g>\r\n   <g id=\"patch_12\">\r\n    <path clip-path=\"url(#pb506f6574c)\" d=\"M 328.795455 228.14 \r\nL 359.231818 228.14 \r\nL 359.231818 227.020214 \r\nL 328.795455 227.020214 \r\nz\r\n\" style=\"fill:#1f77b4;\"/>\r\n   </g>\r\n   <g id=\"matplotlib.axis_1\">\r\n    <g id=\"xtick_1\">\r\n     <g id=\"line2d_1\">\r\n      <defs>\r\n       <path d=\"M 0 0 \r\nL 0 3.5 \r\n\" id=\"me1962abe53\" style=\"stroke:#000000;stroke-width:0.8;\"/>\r\n      </defs>\r\n      <g>\r\n       <use style=\"stroke:#000000;stroke-width:0.8;\" x=\"73.708868\" xlink:href=\"#me1962abe53\" y=\"228.14\"/>\r\n      </g>\r\n     </g>\r\n     <g id=\"text_1\">\r\n      <!-- −0.004 -->\r\n      <defs>\r\n       <path d=\"M 10.59375 35.5 \r\nL 73.1875 35.5 \r\nL 73.1875 27.203125 \r\nL 10.59375 27.203125 \r\nz\r\n\" id=\"DejaVuSans-2212\"/>\r\n       <path d=\"M 31.78125 66.40625 \r\nQ 24.171875 66.40625 20.328125 58.90625 \r\nQ 16.5 51.421875 16.5 36.375 \r\nQ 16.5 21.390625 20.328125 13.890625 \r\nQ 24.171875 6.390625 31.78125 6.390625 \r\nQ 39.453125 6.390625 43.28125 13.890625 \r\nQ 47.125 21.390625 47.125 36.375 \r\nQ 47.125 51.421875 43.28125 58.90625 \r\nQ 39.453125 66.40625 31.78125 66.40625 \r\nz\r\nM 31.78125 74.21875 \r\nQ 44.046875 74.21875 50.515625 64.515625 \r\nQ 56.984375 54.828125 56.984375 36.375 \r\nQ 56.984375 17.96875 50.515625 8.265625 \r\nQ 44.046875 -1.421875 31.78125 -1.421875 \r\nQ 19.53125 -1.421875 13.0625 8.265625 \r\nQ 6.59375 17.96875 6.59375 36.375 \r\nQ 6.59375 54.828125 13.0625 64.515625 \r\nQ 19.53125 74.21875 31.78125 74.21875 \r\nz\r\n\" id=\"DejaVuSans-30\"/>\r\n       <path d=\"M 10.6875 12.40625 \r\nL 21 12.40625 \r\nL 21 0 \r\nL 10.6875 0 \r\nz\r\n\" id=\"DejaVuSans-2e\"/>\r\n       <path d=\"M 37.796875 64.3125 \r\nL 12.890625 25.390625 \r\nL 37.796875 25.390625 \r\nz\r\nM 35.203125 72.90625 \r\nL 47.609375 72.90625 \r\nL 47.609375 25.390625 \r\nL 58.015625 25.390625 \r\nL 58.015625 17.1875 \r\nL 47.609375 17.1875 \r\nL 47.609375 0 \r\nL 37.796875 0 \r\nL 37.796875 17.1875 \r\nL 4.890625 17.1875 \r\nL 4.890625 26.703125 \r\nz\r\n\" id=\"DejaVuSans-34\"/>\r\n      </defs>\r\n      <g transform=\"translate(55.204962 242.738437)scale(0.1 -0.1)\">\r\n       <use xlink:href=\"#DejaVuSans-2212\"/>\r\n       <use x=\"83.789062\" xlink:href=\"#DejaVuSans-30\"/>\r\n       <use x=\"147.412109\" xlink:href=\"#DejaVuSans-2e\"/>\r\n       <use x=\"179.199219\" xlink:href=\"#DejaVuSans-30\"/>\r\n       <use x=\"242.822266\" xlink:href=\"#DejaVuSans-30\"/>\r\n       <use x=\"306.445312\" xlink:href=\"#DejaVuSans-34\"/>\r\n      </g>\r\n     </g>\r\n    </g>\r\n    <g id=\"xtick_2\">\r\n     <g id=\"line2d_2\">\r\n      <g>\r\n       <use style=\"stroke:#000000;stroke-width:0.8;\" x=\"141.739662\" xlink:href=\"#me1962abe53\" y=\"228.14\"/>\r\n      </g>\r\n     </g>\r\n     <g id=\"text_2\">\r\n      <!-- −0.002 -->\r\n      <defs>\r\n       <path d=\"M 19.1875 8.296875 \r\nL 53.609375 8.296875 \r\nL 53.609375 0 \r\nL 7.328125 0 \r\nL 7.328125 8.296875 \r\nQ 12.9375 14.109375 22.625 23.890625 \r\nQ 32.328125 33.6875 34.8125 36.53125 \r\nQ 39.546875 41.84375 41.421875 45.53125 \r\nQ 43.3125 49.21875 43.3125 52.78125 \r\nQ 43.3125 58.59375 39.234375 62.25 \r\nQ 35.15625 65.921875 28.609375 65.921875 \r\nQ 23.96875 65.921875 18.8125 64.3125 \r\nQ 13.671875 62.703125 7.8125 59.421875 \r\nL 7.8125 69.390625 \r\nQ 13.765625 71.78125 18.9375 73 \r\nQ 24.125 74.21875 28.421875 74.21875 \r\nQ 39.75 74.21875 46.484375 68.546875 \r\nQ 53.21875 62.890625 53.21875 53.421875 \r\nQ 53.21875 48.921875 51.53125 44.890625 \r\nQ 49.859375 40.875 45.40625 35.40625 \r\nQ 44.1875 33.984375 37.640625 27.21875 \r\nQ 31.109375 20.453125 19.1875 8.296875 \r\nz\r\n\" id=\"DejaVuSans-32\"/>\r\n      </defs>\r\n      <g transform=\"translate(123.235756 242.738437)scale(0.1 -0.1)\">\r\n       <use xlink:href=\"#DejaVuSans-2212\"/>\r\n       <use x=\"83.789062\" xlink:href=\"#DejaVuSans-30\"/>\r\n       <use x=\"147.412109\" xlink:href=\"#DejaVuSans-2e\"/>\r\n       <use x=\"179.199219\" xlink:href=\"#DejaVuSans-30\"/>\r\n       <use x=\"242.822266\" xlink:href=\"#DejaVuSans-30\"/>\r\n       <use x=\"306.445312\" xlink:href=\"#DejaVuSans-32\"/>\r\n      </g>\r\n     </g>\r\n    </g>\r\n    <g id=\"xtick_3\">\r\n     <g id=\"line2d_3\">\r\n      <g>\r\n       <use style=\"stroke:#000000;stroke-width:0.8;\" x=\"209.770456\" xlink:href=\"#me1962abe53\" y=\"228.14\"/>\r\n      </g>\r\n     </g>\r\n     <g id=\"text_3\">\r\n      <!-- 0.000 -->\r\n      <g transform=\"translate(195.456394 242.738437)scale(0.1 -0.1)\">\r\n       <use xlink:href=\"#DejaVuSans-30\"/>\r\n       <use x=\"63.623047\" xlink:href=\"#DejaVuSans-2e\"/>\r\n       <use x=\"95.410156\" xlink:href=\"#DejaVuSans-30\"/>\r\n       <use x=\"159.033203\" xlink:href=\"#DejaVuSans-30\"/>\r\n       <use x=\"222.65625\" xlink:href=\"#DejaVuSans-30\"/>\r\n      </g>\r\n     </g>\r\n    </g>\r\n    <g id=\"xtick_4\">\r\n     <g id=\"line2d_4\">\r\n      <g>\r\n       <use style=\"stroke:#000000;stroke-width:0.8;\" x=\"277.801251\" xlink:href=\"#me1962abe53\" y=\"228.14\"/>\r\n      </g>\r\n     </g>\r\n     <g id=\"text_4\">\r\n      <!-- 0.002 -->\r\n      <g transform=\"translate(263.487188 242.738437)scale(0.1 -0.1)\">\r\n       <use xlink:href=\"#DejaVuSans-30\"/>\r\n       <use x=\"63.623047\" xlink:href=\"#DejaVuSans-2e\"/>\r\n       <use x=\"95.410156\" xlink:href=\"#DejaVuSans-30\"/>\r\n       <use x=\"159.033203\" xlink:href=\"#DejaVuSans-30\"/>\r\n       <use x=\"222.65625\" xlink:href=\"#DejaVuSans-32\"/>\r\n      </g>\r\n     </g>\r\n    </g>\r\n    <g id=\"xtick_5\">\r\n     <g id=\"line2d_5\">\r\n      <g>\r\n       <use style=\"stroke:#000000;stroke-width:0.8;\" x=\"345.832045\" xlink:href=\"#me1962abe53\" y=\"228.14\"/>\r\n      </g>\r\n     </g>\r\n     <g id=\"text_5\">\r\n      <!-- 0.004 -->\r\n      <g transform=\"translate(331.517982 242.738437)scale(0.1 -0.1)\">\r\n       <use xlink:href=\"#DejaVuSans-30\"/>\r\n       <use x=\"63.623047\" xlink:href=\"#DejaVuSans-2e\"/>\r\n       <use x=\"95.410156\" xlink:href=\"#DejaVuSans-30\"/>\r\n       <use x=\"159.033203\" xlink:href=\"#DejaVuSans-30\"/>\r\n       <use x=\"222.65625\" xlink:href=\"#DejaVuSans-34\"/>\r\n      </g>\r\n     </g>\r\n    </g>\r\n   </g>\r\n   <g id=\"matplotlib.axis_2\">\r\n    <g id=\"ytick_1\">\r\n     <g id=\"line2d_6\">\r\n      <defs>\r\n       <path d=\"M 0 0 \r\nL -3.5 0 \r\n\" id=\"m0c8db444ca\" style=\"stroke:#000000;stroke-width:0.8;\"/>\r\n      </defs>\r\n      <g>\r\n       <use style=\"stroke:#000000;stroke-width:0.8;\" x=\"39.65\" xlink:href=\"#m0c8db444ca\" y=\"228.14\"/>\r\n      </g>\r\n     </g>\r\n     <g id=\"text_6\">\r\n      <!-- 0 -->\r\n      <g transform=\"translate(26.2875 231.939219)scale(0.1 -0.1)\">\r\n       <use xlink:href=\"#DejaVuSans-30\"/>\r\n      </g>\r\n     </g>\r\n    </g>\r\n    <g id=\"ytick_2\">\r\n     <g id=\"line2d_7\">\r\n      <g>\r\n       <use style=\"stroke:#000000;stroke-width:0.8;\" x=\"39.65\" xlink:href=\"#m0c8db444ca\" y=\"190.813808\"/>\r\n      </g>\r\n     </g>\r\n     <g id=\"text_7\">\r\n      <!-- 500 -->\r\n      <defs>\r\n       <path d=\"M 10.796875 72.90625 \r\nL 49.515625 72.90625 \r\nL 49.515625 64.59375 \r\nL 19.828125 64.59375 \r\nL 19.828125 46.734375 \r\nQ 21.96875 47.46875 24.109375 47.828125 \r\nQ 26.265625 48.1875 28.421875 48.1875 \r\nQ 40.625 48.1875 47.75 41.5 \r\nQ 54.890625 34.8125 54.890625 23.390625 \r\nQ 54.890625 11.625 47.5625 5.09375 \r\nQ 40.234375 -1.421875 26.90625 -1.421875 \r\nQ 22.3125 -1.421875 17.546875 -0.640625 \r\nQ 12.796875 0.140625 7.71875 1.703125 \r\nL 7.71875 11.625 \r\nQ 12.109375 9.234375 16.796875 8.0625 \r\nQ 21.484375 6.890625 26.703125 6.890625 \r\nQ 35.15625 6.890625 40.078125 11.328125 \r\nQ 45.015625 15.765625 45.015625 23.390625 \r\nQ 45.015625 31 40.078125 35.4375 \r\nQ 35.15625 39.890625 26.703125 39.890625 \r\nQ 22.75 39.890625 18.8125 39.015625 \r\nQ 14.890625 38.140625 10.796875 36.28125 \r\nz\r\n\" id=\"DejaVuSans-35\"/>\r\n      </defs>\r\n      <g transform=\"translate(13.5625 194.613027)scale(0.1 -0.1)\">\r\n       <use xlink:href=\"#DejaVuSans-35\"/>\r\n       <use x=\"63.623047\" xlink:href=\"#DejaVuSans-30\"/>\r\n       <use x=\"127.246094\" xlink:href=\"#DejaVuSans-30\"/>\r\n      </g>\r\n     </g>\r\n    </g>\r\n    <g id=\"ytick_3\">\r\n     <g id=\"line2d_8\">\r\n      <g>\r\n       <use style=\"stroke:#000000;stroke-width:0.8;\" x=\"39.65\" xlink:href=\"#m0c8db444ca\" y=\"153.487616\"/>\r\n      </g>\r\n     </g>\r\n     <g id=\"text_8\">\r\n      <!-- 1000 -->\r\n      <defs>\r\n       <path d=\"M 12.40625 8.296875 \r\nL 28.515625 8.296875 \r\nL 28.515625 63.921875 \r\nL 10.984375 60.40625 \r\nL 10.984375 69.390625 \r\nL 28.421875 72.90625 \r\nL 38.28125 72.90625 \r\nL 38.28125 8.296875 \r\nL 54.390625 8.296875 \r\nL 54.390625 0 \r\nL 12.40625 0 \r\nz\r\n\" id=\"DejaVuSans-31\"/>\r\n      </defs>\r\n      <g transform=\"translate(7.2 157.286834)scale(0.1 -0.1)\">\r\n       <use xlink:href=\"#DejaVuSans-31\"/>\r\n       <use x=\"63.623047\" xlink:href=\"#DejaVuSans-30\"/>\r\n       <use x=\"127.246094\" xlink:href=\"#DejaVuSans-30\"/>\r\n       <use x=\"190.869141\" xlink:href=\"#DejaVuSans-30\"/>\r\n      </g>\r\n     </g>\r\n    </g>\r\n    <g id=\"ytick_4\">\r\n     <g id=\"line2d_9\">\r\n      <g>\r\n       <use style=\"stroke:#000000;stroke-width:0.8;\" x=\"39.65\" xlink:href=\"#m0c8db444ca\" y=\"116.161423\"/>\r\n      </g>\r\n     </g>\r\n     <g id=\"text_9\">\r\n      <!-- 1500 -->\r\n      <g transform=\"translate(7.2 119.960642)scale(0.1 -0.1)\">\r\n       <use xlink:href=\"#DejaVuSans-31\"/>\r\n       <use x=\"63.623047\" xlink:href=\"#DejaVuSans-35\"/>\r\n       <use x=\"127.246094\" xlink:href=\"#DejaVuSans-30\"/>\r\n       <use x=\"190.869141\" xlink:href=\"#DejaVuSans-30\"/>\r\n      </g>\r\n     </g>\r\n    </g>\r\n    <g id=\"ytick_5\">\r\n     <g id=\"line2d_10\">\r\n      <g>\r\n       <use style=\"stroke:#000000;stroke-width:0.8;\" x=\"39.65\" xlink:href=\"#m0c8db444ca\" y=\"78.835231\"/>\r\n      </g>\r\n     </g>\r\n     <g id=\"text_10\">\r\n      <!-- 2000 -->\r\n      <g transform=\"translate(7.2 82.63445)scale(0.1 -0.1)\">\r\n       <use xlink:href=\"#DejaVuSans-32\"/>\r\n       <use x=\"63.623047\" xlink:href=\"#DejaVuSans-30\"/>\r\n       <use x=\"127.246094\" xlink:href=\"#DejaVuSans-30\"/>\r\n       <use x=\"190.869141\" xlink:href=\"#DejaVuSans-30\"/>\r\n      </g>\r\n     </g>\r\n    </g>\r\n    <g id=\"ytick_6\">\r\n     <g id=\"line2d_11\">\r\n      <g>\r\n       <use style=\"stroke:#000000;stroke-width:0.8;\" x=\"39.65\" xlink:href=\"#m0c8db444ca\" y=\"41.509039\"/>\r\n      </g>\r\n     </g>\r\n     <g id=\"text_11\">\r\n      <!-- 2500 -->\r\n      <g transform=\"translate(7.2 45.308258)scale(0.1 -0.1)\">\r\n       <use xlink:href=\"#DejaVuSans-32\"/>\r\n       <use x=\"63.623047\" xlink:href=\"#DejaVuSans-35\"/>\r\n       <use x=\"127.246094\" xlink:href=\"#DejaVuSans-30\"/>\r\n       <use x=\"190.869141\" xlink:href=\"#DejaVuSans-30\"/>\r\n      </g>\r\n     </g>\r\n    </g>\r\n   </g>\r\n   <g id=\"line2d_12\">\r\n    <path clip-path=\"url(#pb506f6574c)\" d=\"M 121.129086 228.14 \r\nL 121.129086 10.7 \r\n\" style=\"fill:none;stroke:#1f77b4;stroke-linecap:square;stroke-width:1.5;\"/>\r\n   </g>\r\n   <g id=\"patch_13\">\r\n    <path d=\"M 39.65 228.14 \r\nL 39.65 10.7 \r\n\" style=\"fill:none;stroke:#000000;stroke-linecap:square;stroke-linejoin:miter;stroke-width:0.8;\"/>\r\n   </g>\r\n   <g id=\"patch_14\">\r\n    <path d=\"M 374.45 228.14 \r\nL 374.45 10.7 \r\n\" style=\"fill:none;stroke:#000000;stroke-linecap:square;stroke-linejoin:miter;stroke-width:0.8;\"/>\r\n   </g>\r\n   <g id=\"patch_15\">\r\n    <path d=\"M 39.65 228.14 \r\nL 374.45 228.14 \r\n\" style=\"fill:none;stroke:#000000;stroke-linecap:square;stroke-linejoin:miter;stroke-width:0.8;\"/>\r\n   </g>\r\n   <g id=\"patch_16\">\r\n    <path d=\"M 39.65 10.7 \r\nL 374.45 10.7 \r\n\" style=\"fill:none;stroke:#000000;stroke-linecap:square;stroke-linejoin:miter;stroke-width:0.8;\"/>\r\n   </g>\r\n  </g>\r\n </g>\r\n <defs>\r\n  <clipPath id=\"pb506f6574c\">\r\n   <rect height=\"217.44\" width=\"334.8\" x=\"39.65\" y=\"10.7\"/>\r\n  </clipPath>\r\n </defs>\r\n</svg>\r\n",
      "image/png": "[encoded data removed]"
     },
     "metadata": {}
    },
    {
     "output_type": "stream",
     "name": "stdout",
     "text": "0.014\n"
    },
    {
     "output_type": "execute_result",
     "data": {
      "text/plain": "'现在图中的直方图是，若旧版和新版的转化率相等，随机10000次，两者的差值的分布。因为次数够多，根据大数定律，近似于真实的分布。\\n竖线左侧的面积占比，即发生“竖线及竖线左侧极端情况”（diff<=-0.0026）的可能性。也就是说，ab_data.csv这个样本，在旧版和新版转化率相等的情况下，有可能出现，但出现的可能性很小。所以反推出，旧版和新版的转化率很有可能不相等。'"
     },
     "metadata": {},
     "execution_count": 14
    }
   ],
   "source": [
    "#样本的总转化率\n",
    "p_all = match_df.converted.mean()\n",
    "print('p_all:', p_all)\n",
    "\n",
    "#模拟方式：以p_all为新旧版共同的转化率，即取 p_all=p_old=p_new，分别进行n_old次和n_new次二点分布的抽样，使模拟的样本大小同ab_data.csv中的样本大小相同；按照如上方式进行10000模拟，并计算出每次模拟得到的新旧版转化率差值，将其存储在diffs中：\n",
    "diffs=[]\n",
    "for i in range(10000):\n",
    "    p_new_page= np.random.choice(2,size=n_new,p=[1-p_all,p_all]).mean()\n",
    "    p_old_page = np.random.choice(2,size=n_old,p=[1-p_all,p_all]).mean()\n",
    "    diffs.append(p_old_page - p_new_page)\n",
    "\n",
    "\n",
    "\n",
    "# 计算ab_data.csv样本的转化率差值\n",
    "match_diff = match_df[match_df.landing_page==\"old_page\"]['converted'].mean()-match_df[match_df.landing_page==\"new_page\"]['converted'].mean()\n",
    "print('ab_data.csv样本的转化率差值:', match_diff)\n",
    "\n",
    "\n",
    "\n",
    "#在图上将模拟得到的diffs绘制为直方图，将ab_data.csv中样本的转化率差值绘制为竖线：\n",
    "diffs = np.array(diffs)\n",
    "plt.hist(diffs)\n",
    "plt.axvline(match_diff)\n",
    "plt.show()\n",
    "\n",
    "#在diffs列表的数值中，有多大比例小于ab_data.csv中观察到的转化率差值，每次运行比例都不一样，但都接近于方法2中的P值\n",
    "print((diffs < match_diff).mean())\n",
    "\n",
    "\n",
    "'''现在图中的直方图是，若旧版和新版的转化率相等，随机10000次，两者的差值的分布。因为次数够多，根据大数定律，近似于真实的分布。\n",
    "竖线左侧的面积占比，即发生“竖线及竖线左侧极端情况”（diff<=-0.0026）的可能性。也就是说，ab_data.csv这个样本，在旧版和新版转化率相等的情况下，有可能出现，但出现的可能性很小。所以反推出，旧版和新版的转化率很有可能不相等。'''"
   ]
  }
 ],
 "metadata": {
  "kernelspec": {
   "display_name": "Python 3",
   "language": "python",
   "name": "python3"
  },
  "language_info": {
   "codemirror_mode": {
    "name": "ipython",
    "version": 3
   },
   "file_extension": ".py",
   "mimetype": "text/x-python",
   "name": "python",
   "nbconvert_exporter": "python",
   "pygments_lexer": "ipython3",
   "version": "3.6.5-final"
  }
 },
 "nbformat": 4,
 "nbformat_minor": 2
}