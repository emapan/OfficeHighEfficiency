{
 "cells": [
  {
   "cell_type": "code",
   "execution_count": 1,
   "metadata": {},
   "outputs": [],
   "source": [
    "import pandas as pd\n",
    "import re             #re正则表达式 "
   ]
  },
  {
   "cell_type": "markdown",
   "metadata": {},
   "source": [
    "一、读取数据"
   ]
  },
  {
   "cell_type": "code",
   "execution_count": 2,
   "metadata": {},
   "outputs": [
    {
     "output_type": "stream",
     "name": "stdout",
     "text": "(4404, 5)\n<class 'pandas.core.frame.DataFrame'>\nRangeIndex: 4404 entries, 0 to 4403\nData columns (total 5 columns):\ngoods_name      4404 non-null object\nshop_name       4404 non-null object\nprice           4404 non-null float64\npurchase_num    4404 non-null object\nlocation        4404 non-null object\ndtypes: float64(1), object(4)\nmemory usage: 172.1+ KB\nNone\n"
    }
   ],
   "source": [
    "data=pd.read_excel('螺蛳粉店铺数据.xlsx')\n",
    "print(data.shape)\n",
    "print(data.info())"
   ]
  },
  {
   "cell_type": "code",
   "execution_count": 3,
   "metadata": {},
   "outputs": [
    {
     "output_type": "stream",
     "name": "stdout",
     "text": "goods_name shop_name  price  purchase_num location\n0              商用意大利面通心粉螺旋面粉30斤意面螺蛳粉   尚膳食品专营店  100.0     ['27人付款']    山东 济南\n1     预售 李子柒柳州螺蛳粉广西特产正宗螺丝粉方便面米线螺狮粉3袋    李子柒旗舰店   39.7   ['65万+人付款']    浙江 嘉兴\n2  嘻螺会柳州正宗螺蛳粉300gx5包广西特产螺狮粉酸辣螺丝粉速食米线  嘻螺会食品旗舰店   49.9  ['9.5万+人付款']    广西 柳州\n3  螺霸王螺蛳粉280g*10包装礼盒正宗广西柳州螺狮粉特产螺丝粉整箱   丝皇食品专营店  115.0   ['2059人付款']    广西 柳州\n4    预售李子柒柳州螺蛳粉广西特产正宗螺丝粉方便面速食米线11袋礼盒    李子柒旗舰店  139.0  ['5500+人付款']    浙江 嘉兴\n"
    }
   ],
   "source": [
    "print(data.head())"
   ]
  },
  {
   "cell_type": "markdown",
   "metadata": {},
   "source": [
    "二、数据清洗\n",
    "1.数据去重\n",
    "2.去除购买人数为空的数据\n",
    "3.新增purchase_num_new字段：purchase_num由字符串转换成数值型\n",
    "4.新增sales字段：sales=price*purchase_num\n",
    "5.新增province和city字段：location里提取省份和城市\n",
    "6.新增price_cut字段：增加price分箱数据\n",
    "7.新增shop_type字段：shop_name可以分为官方店和非官方店\n",
    "8.新增weight字段：goods_name提取重量信息"
   ]
  },
  {
   "cell_type": "code",
   "execution_count": 4,
   "metadata": {},
   "outputs": [
    {
     "output_type": "stream",
     "name": "stdout",
     "text": "(4383, 5)\n"
    }
   ],
   "source": [
    "#1.数据去重+2.去除购买人数为空的数据\n",
    "data.drop_duplicates(inplace=True)  \n",
    "data=data[data['purchase_num'].str.contains('人')]\n",
    "print(data.shape)"
   ]
  },
  {
   "cell_type": "code",
   "execution_count": 5,
   "metadata": {},
   "outputs": [],
   "source": [
    "#3.新增purchase_num_new字段：purchase_num由字符串转换成数值型\n",
    "data['purchase_num']=[re.sub('\\[\\'|\\'\\]','',i) for i in data['purchase_num']]\n",
    "data['num']=[''.join(re.findall('\\d+\\.{0,1}\\d*',i)) for i in data['purchase_num']]\n",
    "data['num']=data['num'].astype(float)\n",
    "data['unit']=[''.join(re.findall('万',i)) for i in data['purchase_num']]\n",
    "data['unit']=data['unit'].apply(lambda x: 10000 if x=='万' else 1)\n",
    "data['purchase_num_new']=data['num']*data['unit']\n",
    "data.drop(['num', 'unit'], axis=1, inplace=True) # 删除多余的列\n",
    "\n",
    "#4.新增sales字段：sales=price*purchase_num \n",
    "data['sales']=data['purchase_num_new']*data['price']\n",
    "\n",
    "#5.新增province和city字段：location里提取省份和城市 \n",
    "data['province']=data['location'].str.split(' ').apply(lambda x: x[0])\n",
    "data['city']=data['location'].str.split(' ').apply(lambda x: x[1] if len(x)>1 else x[0])"
   ]
  },
  {
   "cell_type": "code",
   "execution_count": 6,
   "metadata": {},
   "outputs": [
    {
     "output_type": "stream",
     "name": "stdout",
     "text": "1100.0 4.9\n"
    }
   ],
   "source": [
    "#6.新增price_cut字段：增加price分箱数据\n",
    "print(data['price'].max(),data['price'].min())"
   ]
  },
  {
   "cell_type": "code",
   "execution_count": 7,
   "metadata": {},
   "outputs": [],
   "source": [
    "def tranform_price(x):\n",
    "    if x <= 20:\n",
    "        return '0~20'\n",
    "    elif x <= 50:\n",
    "        return '20~50'\n",
    "    elif x <= 100:\n",
    "        return '50~100'\n",
    "    elif x <= 200:\n",
    "        return '100~200'\n",
    "    else:\n",
    "        return '200~1200'    \n",
    "data['price_cut'] = data['price'].apply(lambda x: tranform_price(x)) "
   ]
  },
  {
   "cell_type": "code",
   "execution_count": 8,
   "metadata": {},
   "outputs": [
    {
     "output_type": "stream",
     "name": "stdout",
     "text": "goods_name shop_name  price purchase_num location  \\\n0              商用意大利面通心粉螺旋面粉30斤意面螺蛳粉   尚膳食品专营店  100.0        27人付款    山东 济南   \n1     预售 李子柒柳州螺蛳粉广西特产正宗螺丝粉方便面米线螺狮粉3袋    李子柒旗舰店   39.7      65万+人付款    浙江 嘉兴   \n2  嘻螺会柳州正宗螺蛳粉300gx5包广西特产螺狮粉酸辣螺丝粉速食米线  嘻螺会食品旗舰店   49.9     9.5万+人付款    广西 柳州   \n3  螺霸王螺蛳粉280g*10包装礼盒正宗广西柳州螺狮粉特产螺丝粉整箱   丝皇食品专营店  115.0      2059人付款    广西 柳州   \n4    预售李子柒柳州螺蛳粉广西特产正宗螺丝粉方便面速食米线11袋礼盒    李子柒旗舰店  139.0     5500+人付款    浙江 嘉兴   \n\n   purchase_num_new       sales province city price_cut shop_type weight  \n0              27.0      2700.0       山东   济南    50~100       官方店         \n1          650000.0  25805000.0       浙江   嘉兴     20~50       官方店         \n2           95000.0   4740500.0       广西   柳州     20~50       官方店   300g  \n3            2059.0    236785.0       广西   柳州   100~200       官方店   280g  \n4            5500.0    764500.0       浙江   嘉兴   100~200       官方店         \n"
    }
   ],
   "source": [
    "#7.新增shop_type字段：shop_name可以分为官方店和非官方店\n",
    "data['shop_type']=data['shop_name'].str.contains('旗舰')|data['shop_name'].str.contains('天猫')|data['shop_name'].str.contains('专营')|data['shop_name'].str.contains('官方')\n",
    "data['shop_type']=data['shop_type'].apply(lambda x: '官方店' if x==True else '非官方店')\n",
    "\n",
    "#8.新增weight字段：goods_name提取重量信息\n",
    "data['weight']=[''.join(re.findall('\\d+\\.{0,1}\\d*g|\\d+\\.{0,1}\\d*G',i)) for i in data['goods_name']]\n",
    "data['weight']=data['weight'].str.lower()\n",
    "\n",
    "print(data.head())"
   ]
  },
  {
   "cell_type": "markdown",
   "metadata": {},
   "source": [
    "三.数据可视化 \n",
    "1.goods_name字段的词云分析\n",
    "2.不同价格销量占比\n",
    "3.不同类型店铺的数量占比\n",
    "4.不同类型店铺的销量占比\n",
    "5.螺蛳粉销量店铺排名top10\n",
    "6.各省份店铺数量排名top10\n",
    "7.各省份螺蛳粉销售收入分布图\n",
    "8.各省份螺蛳粉销量分布图\n",
    "9.广西省各市螺蛳粉销量分布图"
   ]
  },
  {
   "cell_type": "code",
   "execution_count": 9,
   "metadata": {},
   "outputs": [
    {
     "output_type": "stream",
     "name": "stderr",
     "text": "Building prefix dict from the default dictionary ...\nLoading model from cache C:\\Users\\pr\\AppData\\Local\\Temp\\jieba.cache\nLoading model cost 1.068 seconds.\nPrefix dict has been built successfully.\n"
    },
    {
     "output_type": "execute_result",
     "data": {
      "text/plain": "  word       num\n0  螺蛳粉  1.136864\n1   柳州  0.670196\n2   正宗  0.491532\n3   螺丝  0.480384\n4   速食  0.460393",
      "text/html": "<div>\n<style scoped>\n    .dataframe tbody tr th:only-of-type {\n        vertical-align: middle;\n    }\n\n    .dataframe tbody tr th {\n        vertical-align: top;\n    }\n\n    .dataframe thead th {\n        text-align: right;\n    }\n</style>\n<table border=\"1\" class=\"dataframe\">\n  <thead>\n    <tr style=\"text-align: right;\">\n      <th></th>\n      <th>word</th>\n      <th>num</th>\n    </tr>\n  </thead>\n  <tbody>\n    <tr>\n      <th>0</th>\n      <td>螺蛳粉</td>\n      <td>1.136864</td>\n    </tr>\n    <tr>\n      <th>1</th>\n      <td>柳州</td>\n      <td>0.670196</td>\n    </tr>\n    <tr>\n      <th>2</th>\n      <td>正宗</td>\n      <td>0.491532</td>\n    </tr>\n    <tr>\n      <th>3</th>\n      <td>螺丝</td>\n      <td>0.480384</td>\n    </tr>\n    <tr>\n      <th>4</th>\n      <td>速食</td>\n      <td>0.460393</td>\n    </tr>\n  </tbody>\n</table>\n</div>"
     },
     "metadata": {},
     "execution_count": 9
    }
   ],
   "source": [
    "#词云分析\n",
    "\n",
    "import jieba          \n",
    "import jieba.analyse \n",
    "\n",
    "goods_data=data['goods_name'].str.cat(sep='。') \n",
    "\n",
    "#增加词库\n",
    "jieba.add_word('螺蛳粉')  \n",
    "\n",
    "#读取停用词\n",
    "stop_words=[]\n",
    "with open('chineseStopWords.txt','r',encoding='utf-8') as f:\n",
    "    lines=f.readlines()\n",
    "    for line in lines:\n",
    "        stop_words.append(line.strip())     \n",
    "\n",
    "# 评论字段分词处理\n",
    "word_num = jieba.analyse.extract_tags(goods_data,\n",
    "                                      topK=100,\n",
    "                                      withWeight=True,\n",
    "                                      allowPOS=())\n",
    "\n",
    "# 删除停用词\n",
    "word_num_selected = []\n",
    "for i in word_num:\n",
    "    if i[0] not in stop_words:\n",
    "        word_num_selected.append(i)\n",
    "\n",
    "#分词数据框\n",
    "key_words = pd.DataFrame(word_num_selected, columns=['word','num'])\n",
    "key_words.head()"
   ]
  },
  {
   "cell_type": "code",
   "execution_count": 10,
   "metadata": {},
   "outputs": [
    {
     "output_type": "execute_result",
     "data": {
      "text/plain": "<pyecharts.charts.basic_charts.wordcloud.WordCloud at 0x21127254518>"
     },
     "metadata": {},
     "execution_count": 10
    }
   ],
   "source": [
    "# 词云图\n",
    "#结论：从词云图上可看出，商品标题中最多的字眼是螺蛳粉/广西/柳州/正宗/特产/速食/包邮/袋装/米线/米粉/酸辣粉/方便面等\n",
    "\n",
    "from pyecharts.charts import WordCloud\n",
    "from pyecharts.globals import SymbolType\n",
    "from pyecharts import options as opts\n",
    "\n",
    "word1 = WordCloud(init_opts=opts.InitOpts(width='1350px', height='750px'))\n",
    "word1.add(\"\", [*zip(key_words.word, key_words.num)],\n",
    "          word_size_range=[20, 200],\n",
    "          shape=SymbolType.DIAMOND)\n",
    "word1.set_global_opts(title_opts=opts.TitleOpts('商品标题词云图'),\n",
    "                      toolbox_opts=opts.ToolboxOpts())"
   ]
  },
  {
   "cell_type": "code",
   "execution_count": 11,
   "metadata": {},
   "outputs": [
    {
     "output_type": "execute_result",
     "data": {
      "text/plain": "        0.460643\n300g    0.143281\n320g    0.066849\n280g    0.057495\n400g    0.054757\nName: weight, dtype: float64"
     },
     "metadata": {},
     "execution_count": 11
    }
   ],
   "source": [
    "#重量分布\n",
    "#结论：多数螺蛳粉每份重量都集中在300g左右，14%的螺蛳粉每份重量为300g\n",
    "weight_percent=data['weight'].value_counts()/data['weight'].count()\n",
    "weight_percent.head(5)"
   ]
  },
  {
   "cell_type": "code",
   "execution_count": 12,
   "metadata": {},
   "outputs": [
    {
     "output_type": "execute_result",
     "data": {
      "text/plain": "20~50       0.445357\n50~100      0.308921\n100~200     0.178873\n0~20        0.061373\n200~1200    0.005476\nName: price_cut, dtype: float64"
     },
     "metadata": {},
     "execution_count": 12
    }
   ],
   "source": [
    "#价格区间分布\n",
    "#结论：44.5%的商品价格在20-50元区间内，30.9%的商品价格在50-100元区间内\n",
    "price_percent = data.price_cut.value_counts()/data.price_cut.count()\n",
    "price_percent"
   ]
  },
  {
   "cell_type": "code",
   "execution_count": 13,
   "metadata": {},
   "outputs": [],
   "source": [
    "from pyecharts.charts import Pie\n",
    "from pyecharts import options as opts\n",
    "\n",
    "# 定义饼图函数\n",
    "def pie_self(data_pair,series_name,title):\n",
    "    c= (Pie(init_opts=opts.InitOpts(width='1350px', height='750px'))\n",
    "        .add( \n",
    "        series_name=series_name,\n",
    "        radius=[\"35%\", \"55%\"],\n",
    "        data_pair=data_pair,\n",
    "        label_opts=opts.LabelOpts(\n",
    "            position=\"outside\",\n",
    "            formatter=\"{a|{a}}{abg|}\\n{hr|}\\n {b|{b}: }{c}  {per|{d}%}  \",\n",
    "            background_color=\"#eee\",\n",
    "            border_color=\"#aaa\",\n",
    "            border_width=1,\n",
    "            border_radius=4,\n",
    "            rich={\n",
    "                \"a\": {\"color\": \"#999\", \"lineHeight\": 22, \"align\": \"center\"},\n",
    "                \"abg\": {\n",
    "                    \"backgroundColor\": \"#e3e3e3\",\n",
    "                    \"width\": \"100%\",\n",
    "                    \"align\": \"right\",\n",
    "                    \"height\": 22,\n",
    "                    \"borderRadius\": [4, 4, 0, 0],},\n",
    "                \"hr\": {\n",
    "                    \"borderColor\": \"#aaa\",\n",
    "                    \"width\": \"100%\",\n",
    "                    \"borderWidth\": 0.5,\n",
    "                    \"height\": 0,},\n",
    "                \"b\": {\"fontSize\": 16, \"lineHeight\": 33},\n",
    "                \"per\": {\n",
    "                    \"color\": \"#eee\",\n",
    "                    \"backgroundColor\": \"#334455\",\n",
    "                    \"padding\": [2, 4],\n",
    "                    \"borderRadius\": 2,},\n",
    "            },),)\n",
    "        .set_global_opts(legend_opts=opts.LegendOpts(pos_left=\"left\", pos_top='30%', orient=\"vertical\"), \n",
    "                     toolbox_opts=opts.ToolboxOpts(),\n",
    "                     title_opts=opts.TitleOpts(title=title))\n",
    "        .set_series_opts(tooltip_opts=opts.TooltipOpts(trigger=\"item\", formatter=\"{a} <br/>{b}: {c} ({d}%)\"))\n",
    "    )\n",
    "    return c"
   ]
  },
  {
   "cell_type": "code",
   "execution_count": 14,
   "metadata": {},
   "outputs": [],
   "source": [
    "#不同价格销量占比\n",
    "#从饼图中可以看出，20~50的价格区间产生了75%的销量，说明大多数消费者购买螺蛳粉时更偏爱20-50的价格。\n",
    "\n",
    "\n",
    "#计算不同价格的销量\n",
    "price_cut_num = data.groupby('price_cut')['purchase_num_new'].sum() \n",
    "data_pair = [list(z) for z in zip(price_cut_num.index, price_cut_num.values)]\n",
    "\n",
    "#饼图\n",
    "pie1=pie_self(data_pair,\"销量\",'不同价格销量占比')"
   ]
  },
  {
   "cell_type": "code",
   "execution_count": 15,
   "metadata": {},
   "outputs": [],
   "source": [
    "#不同类型店铺的数量占比\n",
    "#结论：从饼图可以看出，官方店铺仅占26.88%。\n",
    "\n",
    "#自定义函数，计算各类型店铺的去重数量\n",
    "def countShop(dataframe):\n",
    "    a={}\n",
    "    for index,row in dataframe.iterrows():\n",
    "        outer = row.iloc[0]\n",
    "        inner = row.iloc[1]\n",
    "        if outer not in a:\n",
    "            a[outer] = {}\n",
    "        if inner not in a[outer]:\n",
    "            a[outer][inner] = 1\n",
    "        else:\n",
    "            a[outer][inner] += 1\n",
    "    return {k: len(v) for k,v in a.items()}\n",
    "\n",
    "# 计算不同类型店铺的数量\n",
    "shop_type_count = pd.DataFrame(sorted(countShop(data[['shop_type','shop_name']]).items(), key = lambda x:x[1],reverse=True)).set_index(0,drop=True).loc[:,1]\n",
    "data_pair = [list(z) for z in zip(shop_type_count.index, shop_type_count.values.astype(float))]\n",
    "\n",
    "#饼图\n",
    "pie2=pie_self(data_pair,\"店铺数量\",'不同类型店铺的数量占比')"
   ]
  },
  {
   "cell_type": "code",
   "execution_count": 16,
   "metadata": {},
   "outputs": [],
   "source": [
    "#不同类型店铺的销量占比\n",
    "#从饼图中可以看出，官方店铺产生了83%的销量，虽然官方店铺并不多，但是大多数消费者购买螺蛳粉时更偏爱到官方店购买，因为质量有保证。\n",
    "\n",
    "#计算不同类型店铺的销量\n",
    "shop_type_num = data.groupby('shop_type')['purchase_num_new'].sum() \n",
    "data_pair = [list(z) for z in zip(shop_type_num.index, shop_type_num.values)]\n",
    "\n",
    "#饼图\n",
    "pie3=pie_self(data_pair,\"销量\",'不同类型店铺的销量占比')"
   ]
  },
  {
   "cell_type": "code",
   "execution_count": 17,
   "metadata": {},
   "outputs": [
    {
     "output_type": "execute_result",
     "data": {
      "text/plain": "<pyecharts.charts.basic_charts.bar.Bar at 0x211332ab7b8>"
     },
     "metadata": {},
     "execution_count": 17
    }
   ],
   "source": [
    "#螺蛳粉销量店铺排名top10\n",
    "#结论：从条形图可以看出，在销量top10的店铺，李子柒旗舰店、好欢螺旗舰店、嘻螺会鼎蓉鲜专卖店、天猫超市分别位居前四位。李子柒旗舰店、好欢螺旗舰店的销量均超过50万人次购买，而嘻螺会鼎蓉鲜专卖店销量才刚刚过20万，说明消费者对于李子柒和好欢螺两个品牌有较强的消费偏好，说明它们可能具有品牌搜索护城河。\n",
    "\n",
    "from pyecharts.charts import Bar\n",
    "from pyecharts import options as opts \n",
    "\n",
    "# 计算top10店铺\n",
    "shop_top10 = data.groupby('shop_name')['purchase_num_new'].sum().sort_values(ascending=False).head(10)\n",
    "\n",
    "# 绘制条形图\n",
    "bar1 = Bar(init_opts=opts.InitOpts(width='1350px', height='750px')) \n",
    "bar1.add_xaxis(shop_top10.index.tolist())\n",
    "bar1.add_yaxis('螺蛳粉销量', shop_top10.values.tolist()) \n",
    "bar1.set_global_opts(title_opts=opts.TitleOpts(title='螺蛳粉销量店铺排名Top10'),\n",
    "                     xaxis_opts=opts.AxisOpts(axislabel_opts=opts.LabelOpts(rotate=-10)),\n",
    "                     visualmap_opts=opts.VisualMapOpts(max_=shop_top10.values.max())) "
   ]
  },
  {
   "cell_type": "code",
   "execution_count": 18,
   "metadata": {},
   "outputs": [
    {
     "output_type": "execute_result",
     "data": {
      "text/plain": "<pyecharts.charts.basic_charts.bar.Bar at 0x2113329f668>"
     },
     "metadata": {},
     "execution_count": 18
    }
   ],
   "source": [
    "#各省份店铺数量排名Top10\n",
    "#结论：从条形图可以看出，在店铺数量top10的省份中，广西、广东、上海分别位居前三位。其中广西的店铺有849个，其余省份的店铺数量均不足100个，这个结果无可厚非，因为螺蛳粉是属于广西的特产。\n",
    "\n",
    "\n",
    "# 计算top10省份\n",
    "province_top10 = pd.DataFrame(sorted(countShop(data[['province','shop_name']]).items(), key = lambda x:x[1],reverse=True)).set_index(0,drop=True).loc[:,1].head(10)\n",
    "\n",
    "# 绘制条形图\n",
    "bar2 = Bar(init_opts=opts.InitOpts(width='1350px', height='750px')) \n",
    "bar2.add_xaxis(province_top10.index.tolist())\n",
    "bar2.add_yaxis('店铺数量', province_top10.values.tolist()) \n",
    "bar2.set_global_opts(title_opts=opts.TitleOpts(title='店铺数量各省份排名Top10'),\n",
    "                     visualmap_opts=opts.VisualMapOpts(max_=1000)) "
   ]
  },
  {
   "cell_type": "code",
   "execution_count": 19,
   "metadata": {},
   "outputs": [
    {
     "output_type": "execute_result",
     "data": {
      "text/plain": "<pyecharts.charts.basic_charts.map.Map at 0x211332ab390>"
     },
     "metadata": {},
     "execution_count": 19
    }
   ],
   "source": [
    "#各省份螺蛳粉销售收入分布图\n",
    "#结论：从地图中可以看出，广西、浙江、河南的销售收入分别位居前三位。其中广西的销售收入为1.9亿+元，是浙江销售收入的6倍左右。还有几个省份没有销售收入数据。\n",
    "\n",
    "from pyecharts.charts import Map \n",
    "from pyecharts import options as opts\n",
    "\n",
    "# 计算各省销售收入\n",
    "province_sales = data.groupby('province')['sales'].sum().round()\n",
    "\n",
    "# 绘制地图\n",
    "map1 = Map(init_opts=opts.InitOpts(width='1350px', height='750px'))\n",
    "map1.add(\"\", [list(z) for z in zip(province_sales.index.tolist(), province_sales.values.tolist())],\n",
    "         maptype='china'\n",
    "        ) \n",
    "map1.set_global_opts(title_opts=opts.TitleOpts(title='国内各省份螺蛳粉销售收入分布'),\n",
    "                     visualmap_opts=opts.VisualMapOpts(max_=100000000),\n",
    "                     toolbox_opts=opts.ToolboxOpts()\n",
    "                    ) "
   ]
  },
  {
   "cell_type": "code",
   "execution_count": 20,
   "metadata": {},
   "outputs": [
    {
     "output_type": "execute_result",
     "data": {
      "text/plain": "<pyecharts.charts.basic_charts.map.Map at 0x211332ab6a0>"
     },
     "metadata": {},
     "execution_count": 20
    }
   ],
   "source": [
    "#各省份螺蛳粉销量分布图\n",
    "#结论：从地图中可以看出，广西、浙江、河南的销量分别位居前三位。其中广西的销量为447万+人次，是浙江销量的6倍左右。将销售收入与销量比较分析来看，广西省每人次平均消费42元。还有几个省份没有销量数据。\n",
    "\n",
    "# 计算各省销量\n",
    "province_num = data.groupby('province')['purchase_num_new'].sum()\n",
    "\n",
    "# 绘制地图\n",
    "map2 = Map(init_opts=opts.InitOpts(width='1350px', height='750px'))\n",
    "map2.add(\"\", [*zip(province_num.index, province_num.values)],\n",
    "         maptype='china'\n",
    "        ) \n",
    "map2.set_global_opts(title_opts=opts.TitleOpts(title='国内各省份螺蛳粉销量分布'),\n",
    "                     visualmap_opts=opts.VisualMapOpts(max_=4000000),\n",
    "                     toolbox_opts=opts.ToolboxOpts()\n",
    "                    )"
   ]
  },
  {
   "cell_type": "code",
   "execution_count": 21,
   "metadata": {},
   "outputs": [
    {
     "output_type": "execute_result",
     "data": {
      "text/plain": "<pyecharts.charts.basic_charts.map.Map at 0x211332b3b38>"
     },
     "metadata": {},
     "execution_count": 21
    }
   ],
   "source": [
    "#广西省各市螺蛳粉销量分布图\n",
    "#结论：从地图中可以看出，柳州、南宁、桂林的销量分别位居前三位，其中柳州的销量为423万+人次。而从各省份螺蛳粉销量分布图中我们知道广西省的总销量才447万+人次，说明广西省的销量基本来源于柳州市。还有几个城市没有销量数据。\n",
    "\n",
    "# 计算广西省各市销量\n",
    "city_num = data[data['province']=='广西'].groupby('city')['purchase_num_new'].sum()\n",
    "\n",
    "# 绘制地图\n",
    "map3 = Map(init_opts=opts.InitOpts(width='1350px', height='750px'))\n",
    "map3.add(\"\", [list(z) for z in zip((city_num.index+'市').tolist(), city_num.values.tolist())],\n",
    "         maptype='广西'\n",
    "        ) \n",
    "map3.set_global_opts(title_opts=opts.TitleOpts(title='广西省各市螺蛳粉销量分布'),\n",
    "                     visualmap_opts=opts.VisualMapOpts(max_=500000),\n",
    "                     toolbox_opts=opts.ToolboxOpts()\n",
    "                    )"
   ]
  },
  {
   "cell_type": "code",
   "execution_count": 22,
   "metadata": {},
   "outputs": [
    {
     "output_type": "execute_result",
     "data": {
      "text/plain": "'D:\\\\Code\\\\Python\\\\螺蛳粉销量分析可视化.html'"
     },
     "metadata": {},
     "execution_count": 22
    }
   ],
   "source": [
    "# 生成tab\n",
    "from pyecharts.charts import Tab\n",
    "\n",
    "tab = Tab()\n",
    "tab.add(word1, '词云图')\n",
    "tab.add(pie1, '饼图1')\n",
    "tab.add(pie2, '饼图2')\n",
    "tab.add(pie3, '饼图3')\n",
    "tab.add(bar1, '条形图1')\n",
    "tab.add(bar2, '条形图2')\n",
    "tab.add(map1, '全国地图1')\n",
    "tab.add(map2, '全国地图2')\n",
    "tab.add(map3, '广西省地图')\n",
    "tab.render('螺蛳粉销量分析可视化.html')"
   ]
  }
 ],
 "metadata": {
  "kernelspec": {
   "display_name": "Python 3",
   "language": "python",
   "name": "python3"
  },
  "language_info": {
   "codemirror_mode": {
    "name": "ipython",
    "version": 3
   },
   "file_extension": ".py",
   "mimetype": "text/x-python",
   "name": "python",
   "nbconvert_exporter": "python",
   "pygments_lexer": "ipython3",
   "version": "3.6.5-final"
  }
 },
 "nbformat": 4,
 "nbformat_minor": 2
}