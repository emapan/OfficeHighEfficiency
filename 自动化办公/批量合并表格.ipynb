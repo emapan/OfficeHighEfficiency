{
 "cells": [
  {
   "cell_type": "markdown",
   "metadata": {},
   "source": [
    "批量合并表格项目\n",
    "\n",
    "步骤：查找文件位置；提取表格；合并表格；导出"
   ]
  },
  {
   "cell_type": "code",
   "execution_count": 1,
   "metadata": {},
   "outputs": [],
   "source": [
    "import os\n",
    "import pandas as pd"
   ]
  },
  {
   "cell_type": "code",
   "execution_count": 2,
   "metadata": {},
   "outputs": [
    {
     "output_type": "stream",
     "name": "stdout",
     "text": "('test', [], ['test1.xlsx', 'test2.xlsx', 'test3.xlsx', 'test4.xlsx', 'test5.xlsx', 'total.xlsx'])\n"
    }
   ],
   "source": [
    "for file in os.walk('test'):\n",
    "    print(file)"
   ]
  },
  {
   "cell_type": "code",
   "execution_count": 3,
   "metadata": {},
   "outputs": [
    {
     "output_type": "stream",
     "name": "stdout",
     "text": "第1个表格已提取\n第2个表格已提取\n第3个表格已提取\n第4个表格已提取\n第5个表格已提取\n第6个表格已提取\n"
    }
   ],
   "source": [
    "data=[]\n",
    "n=0\n",
    "for file in os.walk('test'):\n",
    "    for table in file[2]:\n",
    "        file_name=file[0]+'/'+ table\n",
    "        data.append(pd.read_excel(file_name,header=None))\n",
    "        n=n+1\n",
    "        print('第%d个表格已提取' % n)"
   ]
  },
  {
   "cell_type": "code",
   "execution_count": 4,
   "metadata": {},
   "outputs": [
    {
     "output_type": "stream",
     "name": "stdout",
     "text": "0\n0  甲\n1  乙\n2  丙\n3  丁\n0  戊\n"
    }
   ],
   "source": [
    "data_result=pd.concat(data)\n",
    "print(data_result.head(5))"
   ]
  },
  {
   "cell_type": "code",
   "execution_count": 5,
   "metadata": {},
   "outputs": [],
   "source": [
    "data_result.to_excel('test/total.xlsx',header=0,index=0)"
   ]
  }
 ],
 "metadata": {
  "language_info": {
   "codemirror_mode": {
    "name": "ipython",
    "version": 3
   },
   "file_extension": ".py",
   "mimetype": "text/x-python",
   "name": "python",
   "nbconvert_exporter": "python",
   "pygments_lexer": "ipython3",
   "version": "3.6.5-final"
  },
  "orig_nbformat": 2,
  "kernelspec": {
   "name": "python3",
   "display_name": "Python 3"
  }
 },
 "nbformat": 4,
 "nbformat_minor": 2
}