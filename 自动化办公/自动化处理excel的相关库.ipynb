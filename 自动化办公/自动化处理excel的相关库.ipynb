{
 "cells": [
  {
   "cell_type": "markdown",
   "metadata": {},
   "source": [
    "xlrd/xlwt/xluntils/openpyxl库的使用"
   ]
  },
  {
   "cell_type": "markdown",
   "metadata": {},
   "source": [
    "一、xlrd库的使用"
   ]
  },
  {
   "cell_type": "code",
   "execution_count": 1,
   "metadata": {},
   "outputs": [
    {
     "output_type": "stream",
     "name": "stdout",
     "text": "['sheet1', 'sheet2']\n<xlrd.sheet.Sheet object at 0x0000021EB61F52E8>\n"
    }
   ],
   "source": [
    "import xlrd #读取excel文件\n",
    "\n",
    "workbook = xlrd.open_workbook(r'C:\\Users\\pr\\Desktop\\test.xls') \n",
    "\n",
    "#抓取所有sheet页的名称\n",
    "sheet_names = workbook.sheet_names() \n",
    "print(sheet_names)\n",
    "#定位到特定sheet\n",
    "#通过索引顺序获取第一张表 table = workbook.sheet_by_index(0)或table = workbook.sheets()[0]\n",
    "worksheet = workbook.sheet_by_name('sheet1') \n",
    "print(worksheet)"
   ]
  },
  {
   "cell_type": "code",
   "execution_count": 2,
   "metadata": {},
   "outputs": [
    {
     "output_type": "stream",
     "name": "stdout",
     "text": "row0 is [43831.0, '甲']\nrow1 is [43832.0, '乙']\nrow2 is [43833.0, '丙']\nrow3 is [43834.0, '丁']\nrow4 is [43835.0, '戊']\nrow5 is [43836.0, '己']\nrow6 is [43837.0, '庚']\nrow7 is [43838.0, '辛']\nrow8 is [43839.0, '壬']\nrow9 is [43840.0, '癸']\nrow10 is [43841.0, '甲']\nrow11 is [43842.0, '乙']\nrow12 is [43843.0, '丙']\nrow13 is [43844.0, '丁']\nrow14 is [43845.0, '戊']\nrow15 is [43846.0, '己']\nrow16 is [43847.0, '庚']\nrow17 is [43848.0, '辛']\nrow18 is [43849.0, '壬']\nrow19 is [43850.0, '癸']\ncol0 is [43831.0, 43832.0, 43833.0, 43834.0, 43835.0, 43836.0, 43837.0, 43838.0, 43839.0, 43840.0, 43841.0, 43842.0, 43843.0, 43844.0, 43845.0, 43846.0, 43847.0, 43848.0, 43849.0, 43850.0]\ncol1 is ['甲', '乙', '丙', '丁', '戊', '己', '庚', '辛', '壬', '癸', '甲', '乙', '丙', '丁', '戊', '己', '庚', '辛', '壬', '癸']\n43831.0\n3\n甲\n1\n43832.0\n3\n乙\n1\n43833.0\n3\n丙\n1\n43834.0\n3\n丁\n1\n43835.0\n3\n戊\n1\n43836.0\n3\n己\n1\n43837.0\n3\n庚\n1\n43838.0\n3\n辛\n1\n43839.0\n3\n壬\n1\n43840.0\n3\n癸\n1\n43841.0\n3\n甲\n1\n43842.0\n3\n乙\n1\n43843.0\n3\n丙\n1\n43844.0\n3\n丁\n1\n43845.0\n3\n戊\n1\n43846.0\n3\n己\n1\n43847.0\n3\n庚\n1\n43848.0\n3\n辛\n1\n43849.0\n3\n壬\n1\n43850.0\n3\n癸\n1\n"
    },
    {
     "output_type": "execute_result",
     "data": {
      "text/plain": "'其他写法：\\ncell = worksheet.cell(row,col).value\\nprint (cell)\\n或\\ncell = worksheet.row(row)[col].value\\nprint (cell)\\n或\\ncell = worksheet.col(col)[row].value\\nprint (cell)\\n'"
     },
     "metadata": {},
     "execution_count": 2
    }
   ],
   "source": [
    "#遍历sheet1中所有行row\n",
    "num_rows = worksheet.nrows  \n",
    "for curr_row in range(num_rows):\n",
    "    row = worksheet.row_values(curr_row)\n",
    "    print('row%s is %s' %(curr_row,row))\n",
    "    \n",
    "#遍历sheet1中所有列col\n",
    "num_cols = worksheet.ncols\n",
    "for curr_col in range(num_cols):\n",
    "    col = worksheet.col_values(curr_col)\n",
    "    print('col%s is %s' %(curr_col,col))\n",
    "    \n",
    "#遍历sheet1中所有单元格cell\n",
    "#获取单元格中值的类型，类型 0 empty,1 string, 2 number, 3 date, 4 boolean, 5 error\n",
    "for row in range(num_rows):\n",
    "    for col in range(num_cols):\n",
    "        cell = worksheet.cell_value(row,col)\n",
    "        cell_type = worksheet.cell_type(row,col)\n",
    "        print (cell)\n",
    "        print (cell_type)\n",
    "\n",
    "'''其他写法：\n",
    "cell = worksheet.cell(row,col).value\n",
    "print (cell)\n",
    "或\n",
    "cell = worksheet.row(row)[col].value\n",
    "print (cell)\n",
    "或\n",
    "cell = worksheet.col(col)[row].value\n",
    "print (cell)\n",
    "'''"
   ]
  },
  {
   "cell_type": "markdown",
   "metadata": {},
   "source": [
    "二、xlwt库的使用"
   ]
  },
  {
   "cell_type": "code",
   "execution_count": 3,
   "metadata": {},
   "outputs": [],
   "source": [
    "import xlwt #新建excel文件并写入数据\n",
    "\n",
    "#创建workbook和sheet对象\n",
    "workbook = xlwt.Workbook() \n",
    "sheet1 = workbook.add_sheet('sheet1',cell_overwrite_ok=True)\n",
    "sheet2 = workbook.add_sheet('sheet2',cell_overwrite_ok=True)\n",
    "\n",
    "#向sheet页中写入数据\n",
    "sheet1.write(0,0,'this should overwrite')\n",
    "sheet1.write(0,1,'text')\n",
    "\n",
    "#初始化样式\n",
    "style = xlwt.XFStyle()\n",
    "#为样式创建字体\n",
    "font = xlwt.Font()\n",
    "font.name = 'Times New Roman'\n",
    "font.bold = True\n",
    "#设置样式的字体\n",
    "style.font = font\n",
    "#使用样式\n",
    "sheet1.write(0,1,'some bold Times text',style)\n",
    "\n",
    "#保存该excel文件,有同名文件时直接覆盖\n",
    "workbook.save(r'C:\\Users\\pr\\Desktop\\test1.xls')"
   ]
  },
  {
   "cell_type": "markdown",
   "metadata": {},
   "source": [
    "三、xlutils库的使用"
   ]
  },
  {
   "cell_type": "code",
   "execution_count": 4,
   "metadata": {},
   "outputs": [],
   "source": [
    "import xlrd\n",
    "import xlutils.copy #向excel文件中写入数据\n",
    "\n",
    "rb = xlrd.open_workbook(r'C:\\Users\\pr\\Desktop\\test1.xls')\n",
    "wb = xlutils.copy.copy(rb)\n",
    "\n",
    "#获取sheet对象，通过sheet_by_index()获取的sheet对象没有write()方法\n",
    "ws = wb.get_sheet(0)\n",
    "#写入数据\n",
    "ws.write(0, 1, 'changed!')\n",
    "#添加sheet页\n",
    "wb.add_sheet('sheetnnn2',cell_overwrite_ok=True)\n",
    "\n",
    "#保存该excel文件,有同名文件时直接覆盖\n",
    "wb.save(r'C:\\Users\\pr\\Desktop\\test1.xls')"
   ]
  },
  {
   "cell_type": "markdown",
   "metadata": {},
   "source": [
    "四、openpyxl库的使用"
   ]
  },
  {
   "cell_type": "code",
   "execution_count": 5,
   "metadata": {},
   "outputs": [
    {
     "output_type": "stream",
     "name": "stdout",
     "text": "<class 'openpyxl.workbook.workbook.Workbook'>\n['sheet1', 'sheet2']\nsheet1\n<class 'openpyxl.worksheet.worksheet.Worksheet'>\n"
    }
   ],
   "source": [
    "import openpyxl\n",
    "from openpyxl.utils import get_column_letter, column_index_from_string \n",
    "import os \n",
    "\n",
    "os.getcwd()\n",
    "os.chdir(r'C:\\Users\\pr\\Desktop') #更改目录\n",
    "\n",
    "wb = openpyxl.load_workbook('test.xlsx')\n",
    "print(type(wb))  #类型为workbook\n",
    "\n",
    "print(wb.sheetnames)\n",
    "\n",
    "sheet = wb['sheet1']\n",
    "print(sheet.title)\n",
    "print(type(sheet)) #类型为worksheet"
   ]
  },
  {
   "cell_type": "code",
   "execution_count": 6,
   "metadata": {},
   "outputs": [
    {
     "output_type": "stream",
     "name": "stdout",
     "text": "20\n2\nA\n1\n"
    }
   ],
   "source": [
    "#获取表的大小\n",
    "print(sheet.max_row)\n",
    "print(sheet.max_column) \n",
    "\n",
    "#列字母和数字的转换\n",
    "print(get_column_letter(1))\n",
    "print(column_index_from_string('A'))"
   ]
  },
  {
   "cell_type": "code",
   "execution_count": 7,
   "metadata": {},
   "outputs": [
    {
     "output_type": "stream",
     "name": "stdout",
     "text": "<Cell 'sheet1'.A1>\n2020-01-01 00:00:00\nA1\n1\nA\n1 甲\n2 乙\n3 丙\n4 丁\n5 戊\n6 己\n7 庚\nA1 2020-01-01 00:00:00\nB1 甲\nC1 None\nA2 2020-01-02 00:00:00\nB2 乙\nC2 None\nA3 2020-01-03 00:00:00\nB3 丙\nC3 None\n"
    }
   ],
   "source": [
    "#按名字访问Cell对象\n",
    "print(sheet['A1']) \n",
    "#Cell对象有value属性，row、column、coordinate属性，提供单元格的位置信息。\n",
    "print(sheet['A1'].value)\n",
    "print(sheet['A1'].coordinate)\n",
    "print(sheet['A1'].row)\n",
    "print(sheet['A1'].column)\n",
    "\n",
    "\n",
    "#除了用字母来表示还可以传递row和column关键字参数，第一行或者第一列的整数是1不是0\n",
    "for i in range(1, 8): \n",
    "        print(i, sheet.cell(row=i, column=2).value) \n",
    " \n",
    "\n",
    "#从表中取得行和列\n",
    "for row in sheet['A1':'C3']: \n",
    "    for cell in row: \n",
    "        print(cell.coordinate, cell.value) "
   ]
  },
  {
   "cell_type": "code",
   "execution_count": 8,
   "metadata": {},
   "outputs": [],
   "source": [
    "wb = openpyxl.load_workbook('test.xlsx') \n",
    "\n",
    "#修改活动工作表名称并将值写入单元格\n",
    "sheet = wb.active\n",
    "sheet.title = 'Spam Spam Spam' \n",
    "sheet['C1'] = 'Hello world!'\n",
    "sheet['C2'] = 200 \n",
    "sheet['C3'] = 300 \n",
    "sheet['C4'] = '=SUM(C2:C3)' #公式\n",
    "\n",
    "#创建和删除工作表\n",
    "wb.create_sheet()  #末尾创建新的文件，默认名称为Sheet\n",
    "wb.create_sheet(index=0, title='First Sheet')  #开始创建名为'First Sheet'的文件\n",
    "wb.remove(wb['Sheet'])  #删除名为'Sheet'的文件\n",
    "wb.save('test1.xlsx')"
   ]
  },
  {
   "cell_type": "code",
   "execution_count": 9,
   "metadata": {},
   "outputs": [
    {
     "output_type": "stream",
     "name": "stdout",
     "text": "=SUM(C2:C3)\nNone\n"
    }
   ],
   "source": [
    "wb = openpyxl.load_workbook('test1.xlsx',data_only=False) \n",
    "sheet = wb['Spam Spam Spam']\n",
    "print(sheet['C4'].value)\n",
    "\n",
    "#手动打开excel再保存，即会显示计算后的值\n",
    "wb = openpyxl.load_workbook('test1.xlsx',data_only=True) \n",
    "sheet = wb['Spam Spam Spam']\n",
    "print(sheet['C4'].value)"
   ]
  },
  {
   "cell_type": "code",
   "execution_count": 10,
   "metadata": {},
   "outputs": [],
   "source": [
    "#调整行和列\n",
    "#Worksheet 对象有 row_dimensions 和 column_dimensions 属性，控制行高和列宽。\n",
    "#行的高度可以设置为 0 到 409 之间的整数或浮点值。这个值表示高度的点数。默认的行高是 12.75。\n",
    "#列宽可以设置为 0到 255 之间的整数或浮点数。这个值表示使用默认字体大小时（11 ），单元格可以显示的字符数。默认的列宽是 8.43 个字符。\n",
    "#列宽为零或行高为零，将使单元格隐藏。 \n",
    "sheet.row_dimensions[1].height = 70 \n",
    "sheet.column_dimensions['D'].width = 20 \n",
    "\n",
    "#合并和拆分单元格，要设置这些合并后单元格的值，只要设置这一组合并单元格左上角的单元格的值。\n",
    "sheet.merge_cells('D1:F3') \n",
    "sheet['D1'] = 'Twelve cells merged together.' \n",
    "sheet.unmerge_cells('D1:F3') \n",
    "wb.save('test1.xlsx')"
   ]
  },
  {
   "cell_type": "code",
   "execution_count": 11,
   "metadata": {},
   "outputs": [],
   "source": [
    "#冻结窗格\n",
    "#在 OpenPyXL 中，每个 Worksheet 对象都有一个 freeze_panes属性，可以设置为一个 Cell 对象或一个单元格坐标的字符串。\n",
    "#请注意，单元格上边的所有行和左边的所有列都会冻结，但单元格所在的行和列不会冻结。 \n",
    "sheet.freeze_panes = 'B2'  #冻结行 1 和列 A\n",
    "sheet.freeze_panes = 'A1'  #没有冻结窗格\n",
    "sheet.freeze_panes = None  #没有冻结窗格"
   ]
  },
  {
   "cell_type": "code",
   "execution_count": 12,
   "metadata": {},
   "outputs": [],
   "source": [
    "#图表\n",
    "#另外，在 OpenPyXL 的当前版本中（2.1.4），load_workbook()不会加载 Excel文件中的图表。即使 Excel 文件包含图表，加载的 Workbook 对象也不会包含它们。如果加载一个 Workbook 对象，然后马上保存到同样的.xlsx 文件名中，实际上就会删除其中的图表。"
   ]
  }
 ],
 "metadata": {
  "language_info": {
   "codemirror_mode": {
    "name": "ipython",
    "version": 3
   },
   "file_extension": ".py",
   "mimetype": "text/x-python",
   "name": "python",
   "nbconvert_exporter": "python",
   "pygments_lexer": "ipython3",
   "version": "3.6.5-final"
  },
  "orig_nbformat": 2,
  "kernelspec": {
   "name": "python3",
   "display_name": "Python 3"
  }
 },
 "nbformat": 4,
 "nbformat_minor": 2
}