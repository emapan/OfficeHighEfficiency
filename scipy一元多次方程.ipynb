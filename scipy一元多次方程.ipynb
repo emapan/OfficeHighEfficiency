{
 "cells": [
  {
   "cell_type": "code",
   "execution_count": null,
   "metadata": {},
   "outputs": [],
   "source": [
    "from scipy import poly1d\n",
    "p = poly1d([3, 4, 5]) #构建一元多次方程\n",
    "print(p)\n",
    "print(p*p)\n",
    "print(p.integ(k=6))    # 求p(x)的不定积分，指定常数项为6\n",
    "print(p.deriv())       # 求p(x)的一阶导数\n",
    "print(p([4, 5]))       # 计算每个值代入p(x)的结果"
   ]
  }
 ],
 "metadata": {
  "kernelspec": {
   "display_name": "Python 3",
   "language": "python",
   "name": "python3"
  },
  "language_info": {
   "codemirror_mode": {
    "name": "ipython",
    "version": 3
   },
   "file_extension": ".py",
   "mimetype": "text/x-python",
   "name": "python",
   "nbconvert_exporter": "python",
   "pygments_lexer": "ipython3",
   "version": "3.6.5"
  }
 },
 "nbformat": 4,
 "nbformat_minor": 2
}
