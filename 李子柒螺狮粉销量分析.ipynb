{
 "cells": [
  {
   "cell_type": "code",
   "execution_count": 2,
   "metadata": {},
   "outputs": [],
   "source": [
    "import pandas as pd\n",
    "import re\n",
    "import jieba.analyse\n",
    "import numpy as np\n",
    "from pyecharts.charts import Pie\n",
    "from pyecharts.charts import Bar\n",
    "from pyecharts.charts import Map\n",
    "from pyecharts.charts import Line\n",
    "from pyecharts.charts import WordCloud\n",
    "from pyecharts import options as opts\n",
    "from pyecharts.globals import SymbolType\n",
    "from pyecharts.charts import Tab"
   ]
  },
  {
   "cell_type": "markdown",
   "metadata": {},
   "source": [
    "一、读取数据"
   ]
  },
  {
   "cell_type": "code",
   "execution_count": 3,
   "metadata": {},
   "outputs": [
    {
     "name": "stdout",
     "output_type": "stream",
     "text": [
      "(4404, 5)\n",
      "<class 'pandas.core.frame.DataFrame'>\n",
      "RangeIndex: 4404 entries, 0 to 4403\n",
      "Data columns (total 5 columns):\n",
      "goods_name      4404 non-null object\n",
      "shop_name       4404 non-null object\n",
      "price           4404 non-null float64\n",
      "purchase_num    4404 non-null object\n",
      "location        4404 non-null object\n",
      "dtypes: float64(1), object(4)\n",
      "memory usage: 172.1+ KB\n",
      "None\n",
      "                          goods_name shop_name  price  purchase_num location\n",
      "0              商用意大利面通心粉螺旋面粉30斤意面螺蛳粉   尚膳食品专营店  100.0     ['27人付款']    山东 济南\n",
      "1     预售 李子柒柳州螺蛳粉广西特产正宗螺丝粉方便面米线螺狮粉3袋    李子柒旗舰店   39.7   ['65万+人付款']    浙江 嘉兴\n",
      "2  嘻螺会柳州正宗螺蛳粉300gx5包广西特产螺狮粉酸辣螺丝粉速食米线  嘻螺会食品旗舰店   49.9  ['9.5万+人付款']    广西 柳州\n",
      "3  螺霸王螺蛳粉280g*10包装礼盒正宗广西柳州螺狮粉特产螺丝粉整箱   丝皇食品专营店  115.0   ['2059人付款']    广西 柳州\n",
      "4    预售李子柒柳州螺蛳粉广西特产正宗螺丝粉方便面速食米线11袋礼盒    李子柒旗舰店  139.0  ['5500+人付款']    浙江 嘉兴\n"
     ]
    }
   ],
   "source": [
    "orginal_data=pd.read_excel(r'D:\\BaiduNetdiskDownload\\cda\\螺狮粉\\螺蛳粉店铺数据.xlsx')\n",
    "print(orginal_data.shape)\n",
    "print(orginal_data.info())\n",
    "print(orginal_data.head())"
   ]
  },
  {
   "cell_type": "markdown",
   "metadata": {},
   "source": [
    "二、数据清洗\n",
    "1.数据去重和null\n",
    "2.去除购买人数为空的数据,防止后面类型转换出错\n",
    "2.类型转换：purchase_num字段由字符串转换成数值型\n",
    "3.新增字段：location字段里提取省份和城市\n",
    "4.新增字段：price*purchase_num=sales\n",
    "5.新增字段：goods_name提取重量信息\n",
    "5.新增字段：增加price分箱数据\n",
    "6.词云分析：从goods_name字段做词云分析\n",
    "5.shop_name可以分为官方店和非官方店，非精准划分"
   ]
  },
  {
   "cell_type": "code",
   "execution_count": 4,
   "metadata": {},
   "outputs": [
    {
     "name": "stdout",
     "output_type": "stream",
     "text": [
      "None\n",
      "(4385, 5)\n",
      "(4383, 5)\n"
     ]
    }
   ],
   "source": [
    "print(orginal_data.drop_duplicates(inplace=True))\n",
    "print(orginal_data.shape)\n",
    "\n",
    "orginal_data=orginal_data[orginal_data['purchase_num'].str.contains('人')]\n",
    "print(orginal_data.shape)"
   ]
  },
  {
   "cell_type": "code",
   "execution_count": 5,
   "metadata": {},
   "outputs": [
    {
     "name": "stdout",
     "output_type": "stream",
     "text": [
      "0       ['27人付款']\n",
      "1     ['65万+人付款']\n",
      "2    ['9.5万+人付款']\n",
      "3     ['2059人付款']\n",
      "4    ['5500+人付款']\n",
      "Name: purchase_num, dtype: object\n",
      "0       27人付款\n",
      "1     65万+人付款\n",
      "2    9.5万+人付款\n",
      "3     2059人付款\n",
      "4    5500+人付款\n",
      "Name: purchase_num, dtype: object\n",
      "0      27.0\n",
      "1      65.0\n",
      "2       9.5\n",
      "3    2059.0\n",
      "4    5500.0\n",
      "Name: num, dtype: float64\n",
      "0        1\n",
      "1    10000\n",
      "2    10000\n",
      "3        1\n",
      "4        1\n",
      "Name: unit, dtype: int64\n"
     ]
    }
   ],
   "source": [
    "print(orginal_data['purchase_num'].head())\n",
    "orginal_data['purchase_num']=[re.sub('\\[\\'|\\'\\]','',i) for i in orginal_data['purchase_num']]\n",
    "print(orginal_data['purchase_num'].head())\n",
    "\n",
    "orginal_data['num']=[''.join(re.findall('\\d+\\.{0,1}\\d*',i)) for i in orginal_data['purchase_num']]\n",
    "orginal_data['num']=orginal_data['num'].astype(float)\n",
    "print(orginal_data['num'].head())\n",
    "\n",
    "orginal_data['unit']=[''.join(re.findall('万',i)) for i in orginal_data['purchase_num']]\n",
    "orginal_data['unit']=orginal_data['unit'].apply(lambda x: 10000 if x=='万' else 1)\n",
    "print(orginal_data['unit'].head())"
   ]
  },
  {
   "cell_type": "code",
   "execution_count": 6,
   "metadata": {},
   "outputs": [
    {
     "name": "stdout",
     "output_type": "stream",
     "text": [
      "0        27.0\n",
      "1    650000.0\n",
      "2     95000.0\n",
      "3      2059.0\n",
      "4      5500.0\n",
      "Name: purchase_num_new, dtype: float64\n",
      "0        2700.0\n",
      "1    25805000.0\n",
      "2     4740500.0\n",
      "3      236785.0\n",
      "4      764500.0\n",
      "Name: sales, dtype: float64\n"
     ]
    }
   ],
   "source": [
    "orginal_data['purchase_num_new']=orginal_data['num']*orginal_data['unit']\n",
    "orginal_data['sales']=orginal_data['purchase_num_new']*orginal_data['price']\n",
    "print(orginal_data['purchase_num_new'].head())\n",
    "print(orginal_data['sales'].head())"
   ]
  },
  {
   "cell_type": "code",
   "execution_count": 16,
   "metadata": {},
   "outputs": [
    {
     "name": "stdout",
     "output_type": "stream",
     "text": [
      "0    山东\n",
      "1    浙江\n",
      "2    广西\n",
      "3    广西\n",
      "4    浙江\n",
      "Name: province, dtype: object\n",
      "0    济南\n",
      "1    嘉兴\n",
      "2    柳州\n",
      "3    柳州\n",
      "4    嘉兴\n",
      "Name: city, dtype: object\n"
     ]
    }
   ],
   "source": [
    "orginal_data['province']=orginal_data['location'].str.split(' ').apply(lambda x: x[0])\n",
    "orginal_data['city']=orginal_data['location'].str.split(' ').apply(lambda x: x[1] if len(x)>1 else x[0])\n",
    "print(orginal_data['province'].head())\n",
    "print(orginal_data['city'].head())"
   ]
  },
  {
   "cell_type": "code",
   "execution_count": 7,
   "metadata": {},
   "outputs": [
    {
     "name": "stdout",
     "output_type": "stream",
     "text": [
      "0    True\n",
      "1    True\n",
      "2    True\n",
      "3    True\n",
      "4    True\n",
      "Name: shop_type, dtype: bool\n"
     ]
    }
   ],
   "source": [
    "orginal_data['shop_type']=orginal_data['shop_name'].str.contains('旗舰')|orginal_data['shop_name'].str.contains('专营')|orginal_data['shop_name'].str.contains('天猫')\n",
    "print(orginal_data['shop_type'].head())"
   ]
  },
  {
   "cell_type": "code",
   "execution_count": 8,
   "metadata": {},
   "outputs": [
    {
     "name": "stdout",
     "output_type": "stream",
     "text": [
      "0                商用意大利面通心粉螺旋面粉30斤意面螺蛳粉\n",
      "1       预售 李子柒柳州螺蛳粉广西特产正宗螺丝粉方便面米线螺狮粉3袋\n",
      "2    嘻螺会柳州正宗螺蛳粉300gx5包广西特产螺狮粉酸辣螺丝粉速食米线\n",
      "3    螺霸王螺蛳粉280g*10包装礼盒正宗广西柳州螺狮粉特产螺丝粉整箱\n",
      "4      预售李子柒柳州螺蛳粉广西特产正宗螺丝粉方便面速食米线11袋礼盒\n",
      "5    【礼盒款】好欢螺螺蛳粉柳州螺狮粉速食方便面米线300g10袋酸辣粉\n",
      "6    【礼盒装】好欢螺螺蛳粉柳州速食螺狮粉酸辣粉方便面米线400g10袋\n",
      "7    螺霸王螺蛳粉280G*6包礼盒装整箱 正宗广西柳州螺狮粉酸辣螺丝粉\n",
      "8      柳江人家柳州螺蛳粉350g*10袋礼盒装广西柳州特产特色螺丝粉\n",
      "9     柳江人家螺蛳粉350g*5袋螺丝粉广西柳州正宗特产速食酸辣螺狮粉\n",
      "Name: goods_name, dtype: object\n",
      "0        \n",
      "1        \n",
      "2    300g\n",
      "3    280g\n",
      "4        \n",
      "5    300g\n",
      "6    400g\n",
      "7    280g\n",
      "8    350g\n",
      "9    350g\n",
      "Name: weight, dtype: object\n"
     ]
    }
   ],
   "source": [
    "print(orginal_data.goods_name.head(10))\n",
    "orginal_data['weight']=[''.join(re.findall('\\d+\\.{0,1}g|\\d+\\.{0,1}G',i)) for i in orginal_data['goods_name']]\n",
    "orginal_data['weight']=orginal_data['weight'].str.lower()\n",
    "print(orginal_data['weight'].head(10))"
   ]
  },
  {
   "cell_type": "code",
   "execution_count": 9,
   "metadata": {},
   "outputs": [
    {
     "name": "stdout",
     "output_type": "stream",
     "text": [
      "                          goods_name shop_name  price purchase_num location  \\\n",
      "0              商用意大利面通心粉螺旋面粉30斤意面螺蛳粉   尚膳食品专营店  100.0        27人付款    山东 济南   \n",
      "1     预售 李子柒柳州螺蛳粉广西特产正宗螺丝粉方便面米线螺狮粉3袋    李子柒旗舰店   39.7      65万+人付款    浙江 嘉兴   \n",
      "2  嘻螺会柳州正宗螺蛳粉300gx5包广西特产螺狮粉酸辣螺丝粉速食米线  嘻螺会食品旗舰店   49.9     9.5万+人付款    广西 柳州   \n",
      "3  螺霸王螺蛳粉280g*10包装礼盒正宗广西柳州螺狮粉特产螺丝粉整箱   丝皇食品专营店  115.0      2059人付款    广西 柳州   \n",
      "4    预售李子柒柳州螺蛳粉广西特产正宗螺丝粉方便面速食米线11袋礼盒    李子柒旗舰店  139.0     5500+人付款    浙江 嘉兴   \n",
      "\n",
      "   purchase_num_new       sales  shop_type weight  \n",
      "0              27.0      2700.0       True         \n",
      "1          650000.0  25805000.0       True         \n",
      "2           95000.0   4740500.0       True   300g  \n",
      "3            2059.0    236785.0       True   280g  \n",
      "4            5500.0    764500.0       True         \n"
     ]
    }
   ],
   "source": [
    "# 删除多余的列\n",
    "orginal_data.drop(['num', 'unit'], axis=1, inplace=True)\n",
    "print(orginal_data.head())\n"
   ]
  },
  {
   "cell_type": "code",
   "execution_count": null,
   "metadata": {},
   "outputs": [],
   "source": [
    "\n",
    "3.数据可视化 \n",
    "\n",
    "分箱\n",
    "1)店铺省份分布\n",
    "2）销量城市分布√\n",
    "3）官方和非官方店铺占比以及销售收入\n",
    "\n",
    "5)词云√\n",
    "6)价格分箱√\n"
   ]
  },
  {
   "cell_type": "code",
   "execution_count": 10,
   "metadata": {},
   "outputs": [
    {
     "name": "stdout",
     "output_type": "stream",
     "text": [
      "        2019\n",
      "300g     628\n",
      "320g     293\n",
      "280g     252\n",
      "400g     240\n",
      "Name: weight, dtype: int64\n"
     ]
    }
   ],
   "source": [
    "print(orginal_data['weight'].value_counts().head())"
   ]
  },
  {
   "cell_type": "code",
   "execution_count": 11,
   "metadata": {},
   "outputs": [
    {
     "data": {
      "text/plain": [
       "20~50       0.445357\n",
       "50~100      0.308921\n",
       "100~200     0.178873\n",
       "0~20        0.061373\n",
       "200~2500    0.005476\n",
       "Name: price_cut, dtype: float64"
      ]
     },
     "execution_count": 11,
     "metadata": {},
     "output_type": "execute_result"
    }
   ],
   "source": [
    "def tranform_price(x):\n",
    "    if x <= 20:\n",
    "        return '0~20'\n",
    "    elif x <= 50:\n",
    "        return '20~50'\n",
    "    elif x <= 100:\n",
    "        return '50~100'\n",
    "    elif x <= 200:\n",
    "        return '100~200'\n",
    "    else:\n",
    "        return '200~2500'\n",
    "    \n",
    "orginal_data['price_cut'] = orginal_data.price.apply(lambda x: tranform_price(x)) \n",
    "\n",
    "price_num = orginal_data.price_cut.value_counts()/orginal_data.price_cut.count()\n",
    "price_num"
   ]
  },
  {
   "cell_type": "code",
   "execution_count": 12,
   "metadata": {},
   "outputs": [
    {
     "name": "stderr",
     "output_type": "stream",
     "text": [
      "Building prefix dict from the default dictionary ...\n",
      "Loading model from cache C:\\Users\\pr\\AppData\\Local\\Temp\\jieba.cache\n",
      "Loading model cost 0.798 seconds.\n",
      "Prefix dict has been built successfully.\n"
     ]
    },
    {
     "data": {
      "text/html": [
       "<div>\n",
       "<style scoped>\n",
       "    .dataframe tbody tr th:only-of-type {\n",
       "        vertical-align: middle;\n",
       "    }\n",
       "\n",
       "    .dataframe tbody tr th {\n",
       "        vertical-align: top;\n",
       "    }\n",
       "\n",
       "    .dataframe thead th {\n",
       "        text-align: right;\n",
       "    }\n",
       "</style>\n",
       "<table border=\"1\" class=\"dataframe\">\n",
       "  <thead>\n",
       "    <tr style=\"text-align: right;\">\n",
       "      <th></th>\n",
       "      <th>words</th>\n",
       "      <th>num</th>\n",
       "    </tr>\n",
       "  </thead>\n",
       "  <tbody>\n",
       "    <tr>\n",
       "      <th>0</th>\n",
       "      <td>螺蛳粉</td>\n",
       "      <td>1.136864</td>\n",
       "    </tr>\n",
       "    <tr>\n",
       "      <th>1</th>\n",
       "      <td>柳州</td>\n",
       "      <td>0.670196</td>\n",
       "    </tr>\n",
       "    <tr>\n",
       "      <th>2</th>\n",
       "      <td>正宗</td>\n",
       "      <td>0.491532</td>\n",
       "    </tr>\n",
       "    <tr>\n",
       "      <th>3</th>\n",
       "      <td>螺丝</td>\n",
       "      <td>0.480384</td>\n",
       "    </tr>\n",
       "    <tr>\n",
       "      <th>4</th>\n",
       "      <td>速食</td>\n",
       "      <td>0.460393</td>\n",
       "    </tr>\n",
       "  </tbody>\n",
       "</table>\n",
       "</div>"
      ],
      "text/plain": [
       "  words       num\n",
       "0   螺蛳粉  1.136864\n",
       "1    柳州  0.670196\n",
       "2    正宗  0.491532\n",
       "3    螺丝  0.480384\n",
       "4    速食  0.460393"
      ]
     },
     "execution_count": 12,
     "metadata": {},
     "output_type": "execute_result"
    }
   ],
   "source": [
    "import jieba \n",
    "import jieba.analyse\n",
    "\n",
    "\n",
    "jieba.add_word('螺蛳粉')\n",
    "data=orginal_data['goods_name'].str.cat(sep='。')\n",
    "\n",
    "stop_words=[]\n",
    "with open(r'D:\\BaiduNetdiskDownload\\cda\\完美关系\\chineseStopWords-me.txt','r',encoding='utf-8') as f:\n",
    "    lines=f.readlines()\n",
    "    for line in lines:\n",
    "        stop_words.append(line.strip())\n",
    "\n",
    "\n",
    "\n",
    "# 添加停用词\n",
    "stop_words.extend(['hellip',   '哈哈哈'])      \n",
    "\n",
    "# 评论字段分词处理\n",
    "word_num = jieba.analyse.extract_tags(data,\n",
    "                                      topK=100,\n",
    "                                      withWeight=True,\n",
    "                                      allowPOS=())\n",
    "\n",
    "# 去停用词\n",
    "word_num_selected = []\n",
    "\n",
    "for i in word_num:\n",
    "    if i[0] not in stop_words:\n",
    "        word_num_selected.append(i)\n",
    "\n",
    "key_words = pd.DataFrame(word_num_selected, columns=['words','num'])\n",
    "key_words.head()\n",
    "\n",
    "\n"
   ]
  },
  {
   "cell_type": "code",
   "execution_count": 13,
   "metadata": {},
   "outputs": [
    {
     "data": {
      "text/plain": [
       "'C:\\\\WINDOWS\\\\system32\\\\render.html'"
      ]
     },
     "execution_count": 13,
     "metadata": {},
     "output_type": "execute_result"
    }
   ],
   "source": [
    "\n",
    "\n",
    "from pyecharts.charts import WordCloud\n",
    "from pyecharts.globals import SymbolType\n",
    "\n",
    "# 词云图\n",
    "word1 = WordCloud(init_opts=opts.InitOpts(width='1350px', height='750px'))\n",
    "word1.add(\"\", [*zip(key_words.words, key_words.num)],\n",
    "          word_size_range=[20, 200],\n",
    "          shape=SymbolType.DIAMOND)\n",
    "word1.set_global_opts(title_opts=opts.TitleOpts('商品标题分布词云图'),\n",
    "                      toolbox_opts=opts.ToolboxOpts())\n",
    "word1.render() \n"
   ]
  },
  {
   "cell_type": "code",
   "execution_count": 14,
   "metadata": {},
   "outputs": [
    {
     "data": {
      "text/plain": [
       "'C:\\\\WINDOWS\\\\system32\\\\render.html'"
      ]
     },
     "execution_count": 14,
     "metadata": {},
     "output_type": "execute_result"
    }
   ],
   "source": [
    "# 导入包\n",
    "from pyecharts.charts import Bar\n",
    "from pyecharts import options as opts \n",
    "\n",
    "# 计算top10店铺\n",
    "shop_top10 = orginal_data.groupby('shop_name')['purchase_num_new'].sum().sort_values(ascending=False).head(10)\n",
    "\n",
    "# 绘制柱形图\n",
    "bar1 = Bar(init_opts=opts.InitOpts(width='1350px', height='750px')) \n",
    "bar1.add_xaxis(shop_top10.index.tolist())\n",
    "bar1.add_yaxis('销量', shop_top10.values.tolist()) \n",
    "bar1.set_global_opts(title_opts=opts.TitleOpts(title='螺蛳粉商品销量店铺排名Top10'),\n",
    "                     xaxis_opts=opts.AxisOpts(axislabel_opts=opts.LabelOpts(rotate=-10)),\n",
    "                     visualmap_opts=opts.VisualMapOpts(max_=shop_top10.values.max())) \n",
    "bar1.render() "
   ]
  },
  {
   "cell_type": "code",
   "execution_count": 17,
   "metadata": {},
   "outputs": [
    {
     "data": {
      "text/plain": [
       "'C:\\\\WINDOWS\\\\system32\\\\render.html'"
      ]
     },
     "execution_count": 17,
     "metadata": {},
     "output_type": "execute_result"
    }
   ],
   "source": [
    "# 计算销量top10\n",
    "province_top10 = orginal_data.groupby('province')['purchase_num_new'].sum().sort_values(ascending=False).head(10)\n",
    "\n",
    "# 条形图\n",
    "bar2 = Bar(init_opts=opts.InitOpts(width='1350px', height='750px')) \n",
    "bar2.add_xaxis(province_top10.index.tolist())\n",
    "bar2.add_yaxis('销量', province_top10.values.tolist()) \n",
    "bar2.set_global_opts(title_opts=opts.TitleOpts(title='螺蛳粉商品销量省份排名Top10'),\n",
    "                     visualmap_opts=opts.VisualMapOpts(max_=province_top10.values.max())) \n",
    "bar2.render() "
   ]
  },
  {
   "cell_type": "code",
   "execution_count": 19,
   "metadata": {},
   "outputs": [
    {
     "data": {
      "text/plain": [
       "'C:\\\\WINDOWS\\\\system32\\\\render.html'"
      ]
     },
     "execution_count": 19,
     "metadata": {},
     "output_type": "execute_result"
    }
   ],
   "source": [
    "from pyecharts.charts import Map \n",
    "\n",
    "# 计算销量\n",
    "province_num = orginal_data.groupby('province')['sales'].sum().round()\n",
    "\n",
    "# 绘制地图\n",
    "map1 = Map(init_opts=opts.InitOpts(width='1350px', height='750px'))\n",
    "map1.add(\"\", [list(z) for z in zip(province_num.index.tolist(), province_num.values.tolist())],\n",
    "         maptype='china'\n",
    "        ) \n",
    "map1.set_global_opts(title_opts=opts.TitleOpts(title='国内各省份螺蛳粉销量分布'),\n",
    "                     visualmap_opts=opts.VisualMapOpts(max_=200000000),\n",
    "                     toolbox_opts=opts.ToolboxOpts()\n",
    "                    )\n",
    "map1.render() "
   ]
  },
  {
   "cell_type": "code",
   "execution_count": 23,
   "metadata": {},
   "outputs": [
    {
     "data": {
      "text/plain": [
       "'C:\\\\WINDOWS\\\\system32\\\\render.html'"
      ]
     },
     "execution_count": 23,
     "metadata": {},
     "output_type": "execute_result"
    }
   ],
   "source": [
    "#未去重\n",
    "from pyecharts.charts import Map \n",
    "\n",
    "# 计算销量\n",
    "province_num = orginal_data.groupby('province')['shop_name'].count().sort_values(ascending=False) \n",
    "\n",
    "# 绘制地图\n",
    "map1 = Map(init_opts=opts.InitOpts(width='1350px', height='750px'))\n",
    "map1.add(\"\", [list(z) for z in zip(province_num.index.tolist(), province_num.values.tolist())],\n",
    "         maptype='china'\n",
    "        ) \n",
    "map1.set_global_opts(title_opts=opts.TitleOpts(title='国内各省份螺狮粉店铺分布'),\n",
    "                     visualmap_opts=opts.VisualMapOpts(max_=2000),\n",
    "                     toolbox_opts=opts.ToolboxOpts()\n",
    "                    )\n",
    "map1.render() "
   ]
  },
  {
   "cell_type": "code",
   "execution_count": 21,
   "metadata": {},
   "outputs": [],
   "source": [
    "def countShop(dataframe):\n",
    "    a={}\n",
    "    for index,row in dataframe.iterrows():\n",
    "        province = row['province']\n",
    "        shop_name = row['shop_name']\n",
    "        if province not in a:\n",
    "            a[province] = {}\n",
    "        if shop_name not in a[province]:\n",
    "            a[province][shop_name] = 1\n",
    "        else:\n",
    "            a[province][shop_name] += 1\n",
    "    return {k: len(v) for k,v in a.items()}"
   ]
  },
  {
   "cell_type": "code",
   "execution_count": 22,
   "metadata": {},
   "outputs": [
    {
     "data": {
      "text/plain": [
       "'C:\\\\WINDOWS\\\\system32\\\\render.html'"
      ]
     },
     "execution_count": 22,
     "metadata": {},
     "output_type": "execute_result"
    }
   ],
   "source": [
    "#去重\n",
    "from pyecharts.charts import Map \n",
    "\n",
    "province_count = countShop(orginal_data)\n",
    "# 绘制地图\n",
    "map1 = Map(init_opts=opts.InitOpts(width='1350px', height='750px'))\n",
    "map1.add(\"\", list(province_count.items()),  maptype='china') \n",
    "map1.set_global_opts(title_opts=opts.TitleOpts(title='国内各省份螺狮粉店铺分布'),\n",
    "                     visualmap_opts=opts.VisualMapOpts(max_=2000),\n",
    "                     toolbox_opts=opts.ToolboxOpts()\n",
    "                    )\n",
    "map1.render() "
   ]
  },
  {
   "cell_type": "code",
   "execution_count": 24,
   "metadata": {},
   "outputs": [
    {
     "data": {
      "text/plain": [
       "'C:\\\\WINDOWS\\\\system32\\\\render.html'"
      ]
     },
     "execution_count": 24,
     "metadata": {},
     "output_type": "execute_result"
    }
   ],
   "source": [
    "from pyecharts.charts import Map \n",
    "\n",
    "# 计算销量\n",
    "city_num = orginal_data[orginal_data['province']=='广西'].groupby('city')['purchase_num_new'].sum().sort_values(ascending=False) \n",
    "# 绘制地图\n",
    "map1 = Map(init_opts=opts.InitOpts(width='1350px', height='750px'))\n",
    "map1.add(\"\", [list(z) for z in zip((city_num.index+'市').tolist(), province_num.values.tolist())],\n",
    "         maptype='广西'\n",
    "        ) \n",
    "map1.set_global_opts(title_opts=opts.TitleOpts(title='广西省各市螺狮粉销量分布'),\n",
    "                     visualmap_opts=opts.VisualMapOpts(max_=4000),\n",
    "                     toolbox_opts=opts.ToolboxOpts()\n",
    "                    )\n",
    "map1.render() "
   ]
  },
  {
   "cell_type": "code",
   "execution_count": 30,
   "metadata": {},
   "outputs": [
    {
     "data": {
      "text/plain": [
       "'C:\\\\WINDOWS\\\\system32\\\\render.html'"
      ]
     },
     "execution_count": 30,
     "metadata": {},
     "output_type": "execute_result"
    }
   ],
   "source": [
    "from pyecharts.charts import Pie\n",
    "\n",
    "price_cut_num = orginal_data.groupby('price_cut')['purchase_num_new'].sum() \n",
    "data_pair = [list(z) for z in zip(price_cut_num.index, price_cut_num.values)]\n",
    "\n",
    "# 饼图\n",
    "pie1 = Pie(init_opts=opts.InitOpts(width='1350px', height='750px'))\n",
    "# 内置富文本\n",
    "pie1.add( \n",
    "        series_name=\"sales\",\n",
    "        radius=[\"35%\", \"55%\"],\n",
    "        data_pair=data_pair,\n",
    "        label_opts=opts.LabelOpts(\n",
    "            position=\"outside\",\n",
    "            formatter=\"{a|{a}}{abg|}\\n{hr|}\\n {b|{b}: }{c}  {per|{d}%}  \",\n",
    "            background_color=\"#eee\",\n",
    "            border_color=\"#aaa\",\n",
    "            border_width=1,\n",
    "            border_radius=4,\n",
    "            rich={\n",
    "                \"a\": {\"color\": \"#999\", \"lineHeight\": 22, \"align\": \"center\"},\n",
    "                \"abg\": {\n",
    "                    \"backgroundColor\": \"#e3e3e3\",\n",
    "                    \"width\": \"100%\",\n",
    "                    \"align\": \"right\",\n",
    "                    \"height\": 22,\n",
    "                    \"borderRadius\": [4, 4, 0, 0],\n",
    "                },\n",
    "                \"hr\": {\n",
    "                    \"borderColor\": \"#aaa\",\n",
    "                    \"width\": \"100%\",\n",
    "                    \"borderWidth\": 0.5,\n",
    "                    \"height\": 0,\n",
    "                },\n",
    "                \"b\": {\"fontSize\": 16, \"lineHeight\": 33},\n",
    "                \"per\": {\n",
    "                    \"color\": \"#eee\",\n",
    "                    \"backgroundColor\": \"#334455\",\n",
    "                    \"padding\": [2, 4],\n",
    "                    \"borderRadius\": 2,\n",
    "                },\n",
    "            },\n",
    "        ),\n",
    ")\n",
    "pie1.set_global_opts(legend_opts=opts.LegendOpts(pos_left=\"left\", pos_top='30%', orient=\"vertical\"), \n",
    "                     toolbox_opts=opts.ToolboxOpts(),\n",
    "                     title_opts=opts.TitleOpts(title='螺狮粉不同价格销量占比'))\n",
    "pie1.set_series_opts(\n",
    "    tooltip_opts=opts.TooltipOpts(trigger=\"item\", formatter=\"{a} <br/>{b}: {c} ({d}%)\")\n",
    "    )\n",
    "pie1.render() "
   ]
  }
 ],
 "metadata": {
  "kernelspec": {
   "display_name": "Python 3",
   "language": "python",
   "name": "python3"
  },
  "language_info": {
   "codemirror_mode": {
    "name": "ipython",
    "version": 3
   },
   "file_extension": ".py",
   "mimetype": "text/x-python",
   "name": "python",
   "nbconvert_exporter": "python",
   "pygments_lexer": "ipython3",
   "version": "3.6.5"
  }
 },
 "nbformat": 4,
 "nbformat_minor": 2
}
