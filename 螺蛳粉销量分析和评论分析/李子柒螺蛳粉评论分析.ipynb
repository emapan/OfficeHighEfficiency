{
 "cells": [
  {
   "cell_type": "code",
   "execution_count": 1,
   "metadata": {},
   "outputs": [],
   "source": [
    "import pandas as pd\n",
    "import numpy as np\n",
    "import re             #re正则表达式 "
   ]
  },
  {
   "cell_type": "markdown",
   "metadata": {},
   "source": [
    "一、数据获取 "
   ]
  },
  {
   "cell_type": "code",
   "execution_count": 2,
   "metadata": {},
   "outputs": [
    {
     "output_type": "stream",
     "name": "stdout",
     "text": "(2000, 4)\n<class 'pandas.core.frame.DataFrame'>\nRangeIndex: 2000 entries, 0 to 1999\nData columns (total 4 columns):\nUserNick        2000 non-null object\ncomment_time    2000 non-null object\ncontent         2000 non-null object\nauctionSku      2000 non-null object\ndtypes: object(4)\nmemory usage: 62.6+ KB\nNone\n"
    }
   ],
   "source": [
    "data=pd.read_excel('李子柒螺蛳粉评论.xlsx')\n",
    "print(data.shape)\n",
    "print(data.info())"
   ]
  },
  {
   "cell_type": "code",
   "execution_count": 3,
   "metadata": {},
   "outputs": [
    {
     "output_type": "stream",
     "name": "stdout",
     "text": "UserNick         comment_time  \\\n0    g***o  2020-03-31 23:09:18   \n1    a***黛  2020-04-01 10:37:51   \n2    茉***儿  2020-04-01 11:35:05   \n3    我***宝  2020-03-31 13:48:30   \n4    t***4  2020-03-31 16:42:47   \n\n                                             content auctionSku  \n0  之前去旅游吃过一次螺狮粉以后，就一直喜欢吃螺狮粉，子柒家的螺狮粉的包装好精致啊，感觉像个大礼...  口味:螺蛳粉3袋装  \n1  包装品质：包装挺严实的，三大袋，还送了一个鼠标垫 口感味道：口感我个人感觉比较清淡，但是该有...  口味:螺蛳粉3袋装  \n2  包装品质：包装特别好，特别是包装袋的图腾和色彩搭配，看上去就很有食欲 #柒家美拍达人#   ...  口味:螺蛳粉3袋装  \n3  虽然等了一个多月才等到发货，不过发货之后两天就收到了，快递也是很给力啊。红色的李子柒的外包装...  口味:螺蛳粉3袋装  \n4  包装品质：非常中国风，也是柒家的特色 口感味道：不是很辣，对于不吃辣的本广东人来说可以接受。...  口味:螺蛳粉3袋装  \n"
    }
   ],
   "source": [
    "print(data.head())"
   ]
  },
  {
   "cell_type": "markdown",
   "metadata": {},
   "source": [
    "二、数据清洗\n",
    "1.数据去重\n",
    "2.删除多余列\n",
    "3.新增字段：comment_time字段提取日期和年月字段\n",
    "4.新增字段：content中提取情感字段"
   ]
  },
  {
   "cell_type": "code",
   "execution_count": 4,
   "metadata": {},
   "outputs": [
    {
     "output_type": "stream",
     "name": "stdout",
     "text": "Counter({'口味:螺蛳粉3袋装': 2000})\n2020-04-02 23:59:13 2019-12-02 10:57:20\n"
    }
   ],
   "source": [
    "from collections import Counter\n",
    "print(Counter(data.auctionSku))  #说明口味只有螺蛳粉3袋装\n",
    "\n",
    "print(data.comment_time.max(),data.comment_time.min())  #评论的最早时间和最晚时间"
   ]
  },
  {
   "cell_type": "code",
   "execution_count": 5,
   "metadata": {},
   "outputs": [
    {
     "output_type": "stream",
     "name": "stdout",
     "text": "(1980, 3)\n"
    }
   ],
   "source": [
    "#1.数据去重+2.删除多余列\n",
    "data.drop_duplicates(inplace=True)\n",
    "data.drop(['auctionSku'], axis=1, inplace=True)\n",
    "print(data.shape)"
   ]
  },
  {
   "cell_type": "code",
   "execution_count": 6,
   "metadata": {},
   "outputs": [
    {
     "output_type": "stream",
     "name": "stdout",
     "text": "UserNick        comment_time  \\\n0    g***o 2020-03-31 23:09:18   \n1    a***黛 2020-04-01 10:37:51   \n2    茉***儿 2020-04-01 11:35:05   \n3    我***宝 2020-03-31 13:48:30   \n4    t***4 2020-03-31 16:42:47   \n\n                                             content comment_date  \\\n0  之前去旅游吃过一次螺狮粉以后，就一直喜欢吃螺狮粉，子柒家的螺狮粉的包装好精致啊，感觉像个大礼...   2020-03-31   \n1  包装品质：包装挺严实的，三大袋，还送了一个鼠标垫 口感味道：口感我个人感觉比较清淡，但是该有...   2020-04-01   \n2  包装品质：包装特别好，特别是包装袋的图腾和色彩搭配，看上去就很有食欲 #柒家美拍达人#   ...   2020-04-01   \n3  虽然等了一个多月才等到发货，不过发货之后两天就收到了，快递也是很给力啊。红色的李子柒的外包装...   2020-03-31   \n4  包装品质：非常中国风，也是柒家的特色 口感味道：不是很辣，对于不吃辣的本广东人来说可以接受。...   2020-03-31   \n\n  comment_year_month  \n0             2020-3  \n1             2020-4  \n2             2020-4  \n3             2020-3  \n4             2020-3  \n"
    }
   ],
   "source": [
    "#3.新增字段：comment_time字段提取日期和年月字段\n",
    "data['comment_time']=pd.to_datetime(data['comment_time'])\n",
    "data['comment_date']=data['comment_time'].dt.date\n",
    "data['comment_year_month']=data['comment_date'].apply(lambda x: str(x.year)+'-'+str(x.month))\n",
    "print(data.head())"
   ]
  },
  {
   "cell_type": "code",
   "execution_count": 7,
   "metadata": {},
   "outputs": [],
   "source": [
    "#自定义函数，长串字符串是否包含某些关键词\n",
    "def contain_or_not(regex,word):\n",
    "    return re.search(regex, word) is not None"
   ]
  },
  {
   "cell_type": "code",
   "execution_count": 8,
   "metadata": {},
   "outputs": [
    {
     "output_type": "stream",
     "name": "stdout",
     "text": "UserNick        comment_time  \\\n0    g***o 2020-03-31 23:09:18   \n1    a***黛 2020-04-01 10:37:51   \n2    茉***儿 2020-04-01 11:35:05   \n3    我***宝 2020-03-31 13:48:30   \n4    t***4 2020-03-31 16:42:47   \n\n                                             content comment_date  \\\n0  之前去旅游吃过一次螺狮粉以后，就一直喜欢吃螺狮粉，子柒家的螺狮粉的包装好精致啊，感觉像个大礼...   2020-03-31   \n1  包装品质：包装挺严实的，三大袋，还送了一个鼠标垫 口感味道：口感我个人感觉比较清淡，但是该有...   2020-04-01   \n2  包装品质：包装特别好，特别是包装袋的图腾和色彩搭配，看上去就很有食欲 #柒家美拍达人#   ...   2020-04-01   \n3  虽然等了一个多月才等到发货，不过发货之后两天就收到了，快递也是很给力啊。红色的李子柒的外包装...   2020-03-31   \n4  包装品质：非常中国风，也是柒家的特色 口感味道：不是很辣，对于不吃辣的本广东人来说可以接受。...   2020-03-31   \n\n  comment_year_month  品牌意识  物流正面  物流负面  包装正面  包装负面  日期正面  日期负面  原料正面  原料负面  \\\n0             2020-3   1.0   0.0   0.0   1.0   0.0   0.0   0.0   1.0   0.0   \n1             2020-4   0.0   0.0   0.0   1.0   0.0   0.0   0.0   1.0   0.0   \n2             2020-4   1.0   0.0   0.0   0.0   0.0   0.0   0.0   1.0   0.0   \n3             2020-3   1.0   1.0   0.0   0.0   0.0   0.0   0.0   1.0   0.0   \n4             2020-3   1.0   0.0   0.0   0.0   0.0   0.0   0.0   0.0   0.0   \n\n   口感正面  口感负面  性价比正面  性价比负面  \n0   1.0   0.0    1.0    0.0  \n1   1.0   0.0    1.0    0.0  \n2   1.0   0.0    0.0    0.0  \n3   1.0   0.0    1.0    0.0  \n4   1.0   0.0    0.0    0.0  \n"
    }
   ],
   "source": [
    "#4.新增字段：content中提取情感字段\n",
    "def judge_comment(content):\n",
    "\n",
    "    # 创建一个空数据框\n",
    "    judges = pd.DataFrame(np.zeros(13 * len(content)).reshape(len(content),13),\n",
    "                      columns = ['品牌意识','物流正面','物流负面','包装正面','包装负面','日期正面','日期负面',\n",
    "                      '原料正面','原料负面','口感正面','口感负面','性价比正面','性价比负面'])\n",
    "\n",
    "    for i in range(len(content)):\n",
    "        word = content[i]\n",
    "\n",
    "        #根据评论中是否提到品牌关键字，判断消费者是否有品牌意识\n",
    "        if contain_or_not('子柒|子七|小柒|小七',word):\n",
    "            judges.iloc[i]['品牌意识'] = 1\n",
    "\n",
    "        #判断物流相关的情感\n",
    "        if contain_or_not('物流|快递|配送|取货|送货|收货',word):\n",
    "            if contain_or_not('慢|龟速|暴力|一个月',word):\n",
    "                judges.iloc[i]['物流负面'] = 1\n",
    "            elif contain_or_not('快|迅速|速度',word):\n",
    "                judges.iloc[i]['物流正面'] = 1\n",
    "\n",
    "        #判断包装相关的情感\n",
    "        if contain_or_not('包装|盒子|袋子|外观',word):\n",
    "            if contain_or_not('破|瘪|简陋|漏气',word):\n",
    "                judges.iloc[i]['包装负面'] = 1\n",
    "            elif contain_or_not('高端|大气|精致|完整|严实|紧',word):\n",
    "                judges.iloc[i]['包装正面'] = 1\n",
    "        \n",
    "        #判断日期相关的情感\n",
    "        if contain_or_not('日期|时间|保质期|过期',word):\n",
    "            if contain_or_not('短|过期|快到了',word):\n",
    "                judges.iloc[i]['日期负面'] = 1\n",
    "            elif contain_or_not('久|长|近',word):\n",
    "                judges.iloc[i]['日期正面'] = 1\n",
    "\n",
    "        #判断原料相关的情感\n",
    "        if contain_or_not('粉|汤|料|腐竹|花生|豆角|酸笋',word):\n",
    "            if contain_or_not('少|不多|不够|不新鲜',word):\n",
    "                judges.iloc[i]['原料负面'] = 1\n",
    "            elif contain_or_not('劲道|脆|多|足|饱|新鲜',word):\n",
    "                judges.iloc[i]['原料正面'] = 1\n",
    "\n",
    "        #判断口感相关的情感\n",
    "        if contain_or_not('难吃|不好吃',word):\n",
    "                judges.iloc[i]['口感负面'] = 1\n",
    "        elif contain_or_not('好吃|鲜|香|食欲',word):\n",
    "                judges.iloc[i]['口感正面'] = 1\n",
    "\n",
    "        #判断性价比相关的情感\n",
    "        if contain_or_not('不值|贵|亏了|不划算|不便宜|性价比低|不推荐',word):\n",
    "                judges.iloc[i]['性价比负面'] = 1\n",
    "        elif contain_or_not('划算|便宜|赚了|囤货|值|物美价廉|实惠|性价比高|不贵|推荐',word):\n",
    "                judges.iloc[i]['性价比正面'] = 1\n",
    "\n",
    "    return judges\n",
    "\n",
    "# 得到带有情感的新数据\n",
    "judge = judge_comment(data.content)\n",
    "new_data = pd.concat([data,judge],axis = 1)\n",
    "print(new_data.head())"
   ]
  },
  {
   "cell_type": "markdown",
   "metadata": {},
   "source": [
    "三、数据可视化\n",
    "1.content字段的词云分析\n",
    "2.每日评论数量走势图\n",
    "3.每月评论数量条形图\n",
    "4.评论占比条形图"
   ]
  },
  {
   "cell_type": "code",
   "execution_count": 9,
   "metadata": {},
   "outputs": [
    {
     "output_type": "stream",
     "name": "stderr",
     "text": "Building prefix dict from the default dictionary ...\nLoading model from cache C:\\Users\\pr\\AppData\\Local\\Temp\\jieba.cache\nLoading model cost 1.128 seconds.\nPrefix dict has been built successfully.\n"
    },
    {
     "output_type": "execute_result",
     "data": {
      "text/plain": "  words       num\n0    味道  0.274209\n1   螺蛳粉  0.238752\n2    好吃  0.203947\n3    包装  0.193856\n4    口感  0.163156",
      "text/html": "<div>\n<style scoped>\n    .dataframe tbody tr th:only-of-type {\n        vertical-align: middle;\n    }\n\n    .dataframe tbody tr th {\n        vertical-align: top;\n    }\n\n    .dataframe thead th {\n        text-align: right;\n    }\n</style>\n<table border=\"1\" class=\"dataframe\">\n  <thead>\n    <tr style=\"text-align: right;\">\n      <th></th>\n      <th>words</th>\n      <th>num</th>\n    </tr>\n  </thead>\n  <tbody>\n    <tr>\n      <th>0</th>\n      <td>味道</td>\n      <td>0.274209</td>\n    </tr>\n    <tr>\n      <th>1</th>\n      <td>螺蛳粉</td>\n      <td>0.238752</td>\n    </tr>\n    <tr>\n      <th>2</th>\n      <td>好吃</td>\n      <td>0.203947</td>\n    </tr>\n    <tr>\n      <th>3</th>\n      <td>包装</td>\n      <td>0.193856</td>\n    </tr>\n    <tr>\n      <th>4</th>\n      <td>口感</td>\n      <td>0.163156</td>\n    </tr>\n  </tbody>\n</table>\n</div>"
     },
     "metadata": {},
     "execution_count": 9
    }
   ],
   "source": [
    "#词云分析\n",
    "\n",
    "import jieba        \n",
    "import jieba.analyse\n",
    "\n",
    "contents=new_data['content'].str.cat(sep='。')\n",
    "\n",
    "#增加词库\n",
    "jieba.add_word('螺蛳粉')\n",
    "jieba.add_word('李子柒')\n",
    "jieba.add_word('子柒')\n",
    "jieba.add_word('好欢螺')\n",
    "\n",
    "#读取停用词\n",
    "stop_words=[]\n",
    "with open('chineseStopWords.txt','r',encoding='utf-8') as f:\n",
    "    lines=f.readlines()\n",
    "    for line in lines:\n",
    "        stop_words.append(line.strip())\n",
    "# 添加停用词\n",
    "stop_words.extend(['一袋', '一包','hellip', \n",
    "                   '一点',  '哈哈哈', ])      \n",
    "\n",
    "# 评论字段分词处理\n",
    "word_num = jieba.analyse.extract_tags(contents,\n",
    "                                      topK=100,\n",
    "                                      withWeight=True,\n",
    "                                      allowPOS=())\n",
    "\n",
    "# 删除停用词\n",
    "word_num_selected = []\n",
    "for i in word_num:\n",
    "    if i[0] not in stop_words:\n",
    "        word_num_selected.append(i)\n",
    "\n",
    "#分词数据框\n",
    "key_words = pd.DataFrame(word_num_selected, columns=['words','num'])\n",
    "key_words.head()"
   ]
  },
  {
   "cell_type": "code",
   "execution_count": 10,
   "metadata": {},
   "outputs": [
    {
     "output_type": "execute_result",
     "data": {
      "text/plain": "<pyecharts.charts.basic_charts.wordcloud.WordCloud at 0x189d9a707b8>"
     },
     "metadata": {},
     "execution_count": 10
    }
   ],
   "source": [
    "# 词云图\n",
    "#结论：从词云图上可看出，商品标题中最多的字眼是螺蛳粉/味道/好吃/包装/口感/新鲜度/鼠标垫/品质/腐竹/整体/评价/李子柒/好欢螺等等。说明消费者最关注的是螺蛳粉的味道、包装、口感，而且很多人都是很满意的。词云中我们除了看到李子柒品牌还能看到好欢螺品牌，这两个品牌都是大众比较认可的螺蛳粉牌子。鼠标垫之所以出现频率比较高，是因为李子柒旗舰店将它作为一个赠品赠送给购买者的。\n",
    "\n",
    "from pyecharts.charts import WordCloud\n",
    "from pyecharts.globals import SymbolType\n",
    "from pyecharts import options as opts\n",
    "\n",
    "#词云图\n",
    "word1 = WordCloud(init_opts=opts.InitOpts(width='1350px', height='750px'))\n",
    "word1.add(\"\", [*zip(key_words.words, key_words.num)],\n",
    "          word_size_range=[20, 200],\n",
    "          shape=SymbolType.DIAMOND)\n",
    "word1.set_global_opts(title_opts=opts.TitleOpts('评论词云图'),\n",
    "                      toolbox_opts=opts.ToolboxOpts())"
   ]
  },
  {
   "cell_type": "code",
   "execution_count": 11,
   "metadata": {},
   "outputs": [
    {
     "output_type": "execute_result",
     "data": {
      "text/plain": "<pyecharts.charts.basic_charts.line.Line at 0x189e56f5e48>"
     },
     "metadata": {},
     "execution_count": 11
    }
   ],
   "source": [
    "# 每日评论数量走势图\n",
    "#从图中可以看出，3月下旬到4月初的评论数增长很快，原因可能是春节和疫情期间螺蛳粉的物流比较慢，消费者收到货普遍都要20天到一个月，所以评论也比较集中在3月下旬到4月初。\n",
    "\n",
    "from pyecharts.charts import Line\n",
    "from pyecharts import options as opts\n",
    "\n",
    "#计算每日评论数\n",
    "comment_num =new_data['comment_date'].value_counts().sort_index()\n",
    "\n",
    "# 折线图\n",
    "line1 = Line(init_opts=opts.InitOpts(width='1350px', height='750px'))\n",
    "line1.add_xaxis(comment_num.index.tolist())\n",
    "line1.add_yaxis('评论热度', comment_num.values.tolist(),\n",
    "areastyle_opts=opts.AreaStyleOpts(opacity=0.5),\n",
    "label_opts=opts.LabelOpts(is_show=False))\n",
    "line1.set_global_opts(title_opts=opts.TitleOpts(title='每日评论数量走势图'),\n",
    " toolbox_opts=opts.ToolboxOpts(),\n",
    "visualmap_opts=opts.VisualMapOpts(max_=400))"
   ]
  },
  {
   "cell_type": "code",
   "execution_count": 12,
   "metadata": {},
   "outputs": [
    {
     "output_type": "execute_result",
     "data": {
      "text/plain": "<pyecharts.charts.basic_charts.bar.Bar at 0x189e56f5a90>"
     },
     "metadata": {},
     "execution_count": 12
    }
   ],
   "source": [
    "# 每月评论数量条形图\n",
    "#从图中可以看出，评论主要集中在3月和4月。而我们的源数据中4月份只有两天数据，两天有793条评论，说明评论的人越来越多了。\n",
    "\n",
    "from pyecharts.charts import Bar\n",
    "from pyecharts import options as opts\n",
    "\n",
    "#计算每月评论数\n",
    "comment_num =new_data['comment_year_month'].value_counts().sort_index()\n",
    "\n",
    "# 条形图\n",
    "bar1 = Bar(init_opts=opts.InitOpts(width='1350px', height='750px')) \n",
    "bar1.add_xaxis(comment_num.index.tolist())\n",
    "bar1.add_yaxis('评论热度', comment_num.values.tolist()) \n",
    "bar1.set_global_opts(title_opts=opts.TitleOpts(title='每月评论数量条形图'),\n",
    "                     visualmap_opts=opts.VisualMapOpts(max_=1200)) "
   ]
  },
  {
   "cell_type": "code",
   "execution_count": 13,
   "metadata": {},
   "outputs": [
    {
     "output_type": "execute_result",
     "data": {
      "text/plain": "<pyecharts.charts.basic_charts.bar.Bar at 0x189e5720198>"
     },
     "metadata": {},
     "execution_count": 13
    }
   ],
   "source": [
    "#评论占比分布图\n",
    "#从条形图中我们看出，正面评论的占比相对较高，尤其是61%的评论都提到了口感正面。\n",
    "\n",
    "# 计算占比\n",
    "rank = new_data.iloc[:, 5:].sum().reset_index().sort_values(0, ascending=False) \n",
    "rank.columns = ['分类', '提及次数']\n",
    "rank['占比'] = round(rank['提及次数'] / new_data.shape[0],2) \n",
    "\n",
    "\n",
    "# 条形图\n",
    "bar2 = Bar(init_opts=opts.InitOpts(width='1350px', height='750px')) \n",
    "bar2.add_xaxis(rank['分类'].tolist())\n",
    "bar2.add_yaxis('评论内容', rank['占比'].tolist()) \n",
    "bar2.set_global_opts(title_opts=opts.TitleOpts(title='评论内容占比'),\n",
    "                     visualmap_opts=opts.VisualMapOpts(max_=0.6)) "
   ]
  },
  {
   "cell_type": "code",
   "execution_count": 14,
   "metadata": {},
   "outputs": [
    {
     "output_type": "execute_result",
     "data": {
      "text/plain": "'D:\\\\Code\\\\Python\\\\李子柒螺蛳粉评论分析可视化.html'"
     },
     "metadata": {},
     "execution_count": 14
    }
   ],
   "source": [
    "# 生成tab\n",
    "from pyecharts.charts import Tab\n",
    "\n",
    "tab = Tab()\n",
    "tab.add(word1, '词云图')\n",
    "tab.add(line1, '折线图')\n",
    "tab.add(bar1, '条形图1')\n",
    "tab.add(bar2, '条形图2')\n",
    "tab.render('李子柒螺蛳粉评论分析可视化.html')"
   ]
  }
 ],
 "metadata": {
  "kernelspec": {
   "display_name": "Python 3",
   "language": "python",
   "name": "python3"
  },
  "language_info": {
   "codemirror_mode": {
    "name": "ipython",
    "version": 3
   },
   "file_extension": ".py",
   "mimetype": "text/x-python",
   "name": "python",
   "nbconvert_exporter": "python",
   "pygments_lexer": "ipython3",
   "version": "3.6.5-final"
  }
 },
 "nbformat": 4,
 "nbformat_minor": 2
}